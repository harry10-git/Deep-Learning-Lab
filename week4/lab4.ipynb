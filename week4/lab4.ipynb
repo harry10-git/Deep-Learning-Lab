{
 "cells": [
  {
   "cell_type": "markdown",
   "source": [
    "## Feedforward Neural Network"
   ],
   "metadata": {
    "collapsed": false
   },
   "id": "53ed9bbdf6ad8f2e"
  },
  {
   "cell_type": "markdown",
   "source": [
    "1. Implement two layer Feed Forward Neural Network for XOR Logic Gate with 2-bit Binary \n",
    "Input using Sigmoid activation. Verify the number of learnable parameters in the model"
   ],
   "metadata": {
    "collapsed": false
   },
   "id": "190c733b8673fbf0"
  },
  {
   "cell_type": "code",
   "outputs": [],
   "source": [
    "import torch\n",
    "import matplotlib.pyplot as plt\n",
    "from torch.utils.data import Dataset, DataLoader\n",
    "import torch.nn as nn\n",
    "import numpy as np"
   ],
   "metadata": {
    "collapsed": false,
    "ExecuteTime": {
     "end_time": "2024-02-18T17:09:06.685981Z",
     "start_time": "2024-02-18T17:09:06.682318Z"
    }
   },
   "id": "c460d05dd712c35",
   "execution_count": 57
  },
  {
   "cell_type": "code",
   "outputs": [],
   "source": [
    "loss_list= []\n",
    "torch.manual_seed(42)\n",
    "X = torch.tensor([[0,0], [0,1], [1,0], [1,1]], dtype=torch.float32)\n",
    "Y = torch.tensor([0,1,1,0], dtype=torch.float32)"
   ],
   "metadata": {
    "collapsed": false,
    "ExecuteTime": {
     "end_time": "2024-02-18T17:09:06.719368Z",
     "start_time": "2024-02-18T17:09:06.690717Z"
    }
   },
   "id": "bb2dbb409135f757",
   "execution_count": 58
  },
  {
   "cell_type": "code",
   "outputs": [],
   "source": [
    "class XORModel(nn.Module):\n",
    "    def __init__(self):\n",
    "        super(XORModel, self).__init__()\n",
    "        self.linear1 = nn.Linear(2,2, bias=True)\n",
    "        self.activation1 = nn.Sigmoid()\n",
    "        self.linear2 = nn.Linear(2,1, bias=True)\n",
    "    def forward(self, x):\n",
    "        x = self.linear1(x)\n",
    "        x = self.activation1(x)\n",
    "        x = self.linear2(x)\n",
    "        return x"
   ],
   "metadata": {
    "collapsed": false,
    "ExecuteTime": {
     "end_time": "2024-02-18T17:09:06.720181Z",
     "start_time": "2024-02-18T17:09:06.708633Z"
    }
   },
   "id": "445e16c2eb7ad790",
   "execution_count": 59
  },
  {
   "cell_type": "code",
   "outputs": [],
   "source": [
    "class MyDataset(Dataset):\n",
    "    def __init__(self, X, y):\n",
    "        self.X = X\n",
    "        self.Y = Y\n",
    "\n",
    "    def __len__(self):\n",
    "        return len(self.X)\n",
    "\n",
    "    def __getitem__(self, idx):\n",
    "        return self.X[idx], self.Y[idx]"
   ],
   "metadata": {
    "collapsed": false,
    "ExecuteTime": {
     "end_time": "2024-02-18T17:09:06.720553Z",
     "start_time": "2024-02-18T17:09:06.711338Z"
    }
   },
   "id": "cefafaa4805024dc",
   "execution_count": 60
  },
  {
   "cell_type": "code",
   "outputs": [
    {
     "name": "stdout",
     "output_type": "stream",
     "text": [
      "XORModel(\n",
      "  (linear1): Linear(in_features=2, out_features=2, bias=True)\n",
      "  (activation1): Sigmoid()\n",
      "  (linear2): Linear(in_features=2, out_features=1, bias=True)\n",
      ")\n"
     ]
    }
   ],
   "source": [
    "dataset = MyDataset(X, Y)\n",
    "batch_size = 1\n",
    "data_loader = DataLoader(dataset, batch_size=batch_size, shuffle=True)\n",
    "device = torch.device(\"cuda\" if torch.cuda.is_available() else \"cpu\")\n",
    "model = XORModel().to(device)\n",
    "loss_fn = nn.MSELoss()\n",
    "optimizer = torch.optim.SGD(model.parameters(), lr = 0.03)\n",
    "print(model)"
   ],
   "metadata": {
    "collapsed": false,
    "ExecuteTime": {
     "end_time": "2024-02-18T17:09:06.732524Z",
     "start_time": "2024-02-18T17:09:06.716965Z"
    }
   },
   "id": "182765abcd33d297",
   "execution_count": 61
  },
  {
   "cell_type": "code",
   "outputs": [],
   "source": [
    "def train_one_epoch(idx):\n",
    "    totalloss = 0.0\n",
    "    for i, data in enumerate(data_loader):\n",
    "        inputs, labels = data\n",
    "        optimizer.zero_grad()\n",
    "        y_p = model(inputs)\n",
    "        loss = loss_fn(y_p.flatten(), labels)\n",
    "        loss.backward()\n",
    "        optimizer.step()\n",
    "        totalloss += loss.item()\n",
    "    return totalloss/(len(data_loader)*batch_size)"
   ],
   "metadata": {
    "collapsed": false,
    "ExecuteTime": {
     "end_time": "2024-02-18T17:09:06.750828Z",
     "start_time": "2024-02-18T17:09:06.731680Z"
    }
   },
   "id": "152718ab1c8a920b",
   "execution_count": 62
  },
  {
   "cell_type": "code",
   "outputs": [
    {
     "name": "stdout",
     "output_type": "stream",
     "text": [
      "epoch: 0, loss: 0.301132844761014\n",
      "epoch: 1000, loss: 0.27038103714585304\n",
      "epoch: 2000, loss: 0.27022553235292435\n",
      "epoch: 3000, loss: 0.26847536861896515\n",
      "epoch: 4000, loss: 0.26516810059547424\n",
      "epoch: 5000, loss: 0.22409719042479992\n",
      "epoch: 6000, loss: 0.00014028621899342397\n",
      "epoch: 7000, loss: 1.2327916465437738e-11\n",
      "epoch: 8000, loss: 3.0242475190789264e-12\n",
      "epoch: 9000, loss: 2.970956813896919e-12\n"
     ]
    }
   ],
   "source": [
    "loss_list = []\n",
    "for epoch in range(10000):\n",
    "    model.train(True)\n",
    "    avg_loss = train_one_epoch(epoch)\n",
    "    loss_list.append(avg_loss)\n",
    "    if epoch % 1000 == 0:\n",
    "        print('epoch: {}, loss: {}'.format(epoch, avg_loss))"
   ],
   "metadata": {
    "collapsed": false,
    "ExecuteTime": {
     "end_time": "2024-02-18T17:09:11.336106Z",
     "start_time": "2024-02-18T17:09:06.735627Z"
    }
   },
   "id": "745c7262bd016d9e",
   "execution_count": 63
  },
  {
   "cell_type": "code",
   "outputs": [
    {
     "data": {
      "text/plain": "<Figure size 640x480 with 1 Axes>",
      "image/png": "[encoded data removed]"
     },
     "metadata": {},
     "output_type": "display_data"
    }
   ],
   "source": [
    "plt.plot(loss_list)\n",
    "plt.show()"
   ],
   "metadata": {
    "collapsed": false,
    "ExecuteTime": {
     "end_time": "2024-02-18T17:09:11.506003Z",
     "start_time": "2024-02-18T17:09:11.347606Z"
    }
   },
   "id": "e631ca6369826ca2",
   "execution_count": 64
  },
  {
   "cell_type": "code",
   "outputs": [
    {
     "name": "stdout",
     "output_type": "stream",
     "text": [
      "Input =  tensor([1., 0.])\n",
      "Output =  tensor([1.0000], grad_fn=<ViewBackward0>)\n",
      "Input =  tensor([0., 0.])\n",
      "Output =  tensor([7.1526e-07], grad_fn=<ViewBackward0>)\n"
     ]
    }
   ],
   "source": [
    "input = torch.tensor([1.,0.])\n",
    "model.eval()\n",
    "print(\"Input = \",input)\n",
    "print(\"Output = \",model(input))\n",
    "\n",
    "input = torch.tensor([0.,0.])\n",
    "model.eval()\n",
    "print(\"Input = \",input)\n",
    "print(\"Output = \",model(input))"
   ],
   "metadata": {
    "collapsed": false,
    "ExecuteTime": {
     "end_time": "2024-02-18T17:09:11.522413Z",
     "start_time": "2024-02-18T17:09:11.505795Z"
    }
   },
   "id": "75637963ca6c9b7f",
   "execution_count": 65
  },
  {
   "cell_type": "code",
   "outputs": [
    {
     "name": "stdout",
     "output_type": "stream",
     "text": [
      "('linear1.weight', Parameter containing:\n",
      "tensor([[-1.9767,  2.0750],\n",
      "        [-3.0809,  3.3435]], requires_grad=True))\n",
      "('linear1.bias', Parameter containing:\n",
      "tensor([ 0.7012, -2.5002], requires_grad=True))\n",
      "('linear2.weight', Parameter containing:\n",
      "tensor([[-2.6653,  2.7713]], requires_grad=True))\n",
      "('linear2.bias', Parameter containing:\n",
      "tensor([1.5715], requires_grad=True))\n"
     ]
    }
   ],
   "source": [
    "for param in model.named_parameters():\n",
    "    print(param)"
   ],
   "metadata": {
    "collapsed": false,
    "ExecuteTime": {
     "end_time": "2024-02-18T17:09:11.525177Z",
     "start_time": "2024-02-18T17:09:11.521990Z"
    }
   },
   "id": "b21ef4ae7921c9eb",
   "execution_count": 66
  },
  {
   "cell_type": "markdown",
   "source": [
    "2. Repeat Qn 1 by modifying the activation function to ReLU."
   ],
   "metadata": {
    "collapsed": false
   },
   "id": "d3c4b6ca02b3536f"
  },
  {
   "cell_type": "code",
   "outputs": [
    {
     "name": "stdout",
     "output_type": "stream",
     "text": [
      "XORModel(\n",
      "  (linear1): Linear(in_features=2, out_features=2, bias=True)\n",
      "  (activation1): ReLU()\n",
      "  (linear2): Linear(in_features=2, out_features=1, bias=True)\n",
      ")\n",
      "epoch: 0, loss: 0.28828215412795544\n",
      "epoch: 1000, loss: 0.13222978546400554\n",
      "epoch: 2000, loss: 0.13277034627981266\n",
      "epoch: 3000, loss: 0.13273568680347125\n",
      "epoch: 4000, loss: 0.13273096554848962\n",
      "epoch: 5000, loss: 0.1327835510719524\n",
      "epoch: 6000, loss: 0.1328371121908276\n",
      "epoch: 7000, loss: 0.13272638581878482\n",
      "epoch: 8000, loss: 0.13273535281267357\n",
      "epoch: 9000, loss: 0.1324844262948659\n"
     ]
    },
    {
     "data": {
      "text/plain": "<Figure size 640x480 with 1 Axes>",
      "image/png": "[encoded data removed]"
     },
     "metadata": {},
     "output_type": "display_data"
    },
    {
     "name": "stdout",
     "output_type": "stream",
     "text": [
      "Input =  tensor([1., 0.])\n",
      "Output =  tensor([0.4958], grad_fn=<ViewBackward0>)\n",
      "Input =  tensor([0., 0.])\n",
      "Output =  tensor([0.4958], grad_fn=<ViewBackward0>)\n"
     ]
    }
   ],
   "source": [
    "loss_list = []\n",
    "torch.manual_seed(42)\n",
    "X = torch.tensor([[0, 0], [0, 1], [1, 0], [1, 1]], dtype=torch.float32)\n",
    "Y = torch.tensor([0, 1, 1, 0], dtype=torch.float32)\n",
    "\n",
    "class XORModel(nn.Module):\n",
    "    def __init__(self):\n",
    "        super(XORModel, self).__init__()\n",
    "        self.linear1 = nn.Linear(2, 2, bias=True)\n",
    "        self.activation1 = nn.ReLU()\n",
    "        self.linear2 = nn.Linear(2, 1, bias=True)\n",
    "\n",
    "    def forward(self, x):\n",
    "        x = self.linear1(x)\n",
    "        x = self.activation1(x)\n",
    "        x = self.linear2(x)\n",
    "        return x\n",
    "\n",
    "\n",
    "class MyDataset(Dataset):\n",
    "    def __init__(self, X, y):\n",
    "        self.X = X\n",
    "        self.Y = Y\n",
    "\n",
    "    def __len__(self):\n",
    "        return len(self.X)\n",
    "\n",
    "    def __getitem__(self, idx):\n",
    "        return self.X[idx], self.Y[idx]\n",
    "\n",
    "\n",
    "dataset = MyDataset(X, Y)\n",
    "batch_size = 1\n",
    "data_loader = DataLoader(dataset, batch_size=batch_size, shuffle=True)\n",
    "device = torch.device(\"cuda\" if torch.cuda.is_available() else \"cpu\")\n",
    "model = XORModel().to(device)\n",
    "loss_fn = nn.MSELoss()\n",
    "optimizer = torch.optim.SGD(model.parameters(), lr=0.03)\n",
    "print(model)\n",
    "\n",
    "\n",
    "def train_one_epoch(idx):\n",
    "    totalloss = 0.0\n",
    "    for i, data in enumerate(data_loader):\n",
    "        inputs, labels = data\n",
    "        optimizer.zero_grad()\n",
    "        y_p = model(inputs)\n",
    "        loss = loss_fn(y_p.flatten(), labels)\n",
    "        loss.backward()\n",
    "        optimizer.step()\n",
    "        totalloss += loss.item()\n",
    "    return totalloss / (len(data_loader) * batch_size)\n",
    "\n",
    "\n",
    "loss_list = []\n",
    "for epoch in range(10000):\n",
    "    model.train(True)\n",
    "    avg_loss = train_one_epoch(epoch)\n",
    "    loss_list.append(avg_loss)\n",
    "    if epoch % 1000 == 0:\n",
    "        print('epoch: {}, loss: {}'.format(epoch, avg_loss))\n",
    "plt.plot(loss_list)\n",
    "plt.show()\n",
    "input = torch.tensor([1., 0.])\n",
    "model.eval()\n",
    "print(\"Input = \", input)\n",
    "print(\"Output = \", model(input))\n",
    "\n",
    "input = torch.tensor([0., 0.])\n",
    "model.eval()\n",
    "print(\"Input = \", input)\n",
    "print(\"Output = \", model(input))"
   ],
   "metadata": {
    "collapsed": false,
    "ExecuteTime": {
     "end_time": "2024-02-18T17:09:15.958883Z",
     "start_time": "2024-02-18T17:09:11.530956Z"
    }
   },
   "id": "e451a0c76f7698a7",
   "execution_count": 67
  },
  {
   "cell_type": "markdown",
   "source": [
    "3. Manually verify the output values by taking system generated values of weights and biases \n",
    "for both Linear1 and Linear2 layers for Qn 1 and apply the transformations to input X and \n",
    "implement the same."
   ],
   "metadata": {
    "collapsed": false
   },
   "id": "1422ffa2ec70d93"
  },
  {
   "cell_type": "code",
   "outputs": [],
   "source": [
    "def sigmoid(x):\n",
    "    return 1/(1+np.exp(-x))\n",
    "\n",
    "class VerifyQ1:\n",
    "    def __init__(self):\n",
    "        self.w1 = np.array([[-1.9667,2.0750],[-3.0809, 3.3435]])\n",
    "        self.b1 = np.array([0.7012, -2.5002])\n",
    "        self.w2 = np.array([[-2.6653,  2.7713]])\n",
    "        self.b2 = np.array([1.5715])\n",
    "    def forward(self,x):\n",
    "        temp = np.matmul(x, self.w1.T) + self.b1\n",
    "        temp = sigmoid(temp)\n",
    "        temp = np.matmul(temp, self.w2.T) + self.b2\n",
    "        return temp"
   ],
   "metadata": {
    "collapsed": false,
    "ExecuteTime": {
     "end_time": "2024-02-18T17:09:15.962740Z",
     "start_time": "2024-02-18T17:09:15.960279Z"
    }
   },
   "id": "da430bf93c794906",
   "execution_count": 68
  },
  {
   "cell_type": "code",
   "outputs": [
    {
     "name": "stdout",
     "output_type": "stream",
     "text": [
      "Output Prediction for x1=0, x2=0 is y=0.0\n",
      "Output Prediction for x1=0, x2=0 is y=1.0\n",
      "Output Prediction for x1=1, x2=1 is y=1.0\n",
      "Output Prediction for x1=1, x2=1 is y=-0.0\n"
     ]
    }
   ],
   "source": [
    "model = VerifyQ1()\n",
    "inputs = np.array([[0, 0], [0, 1], [1, 0], [1, 1]])\n",
    "for i in inputs:\n",
    "    i = i.reshape(1,-1)\n",
    "    y = model.forward(i)\n",
    "    print('Output Prediction for x1={}, x2={} is y={}'.format(i[0][0], i[0][0], round(y[0][0], 1)))"
   ],
   "metadata": {
    "collapsed": false,
    "ExecuteTime": {
     "end_time": "2024-02-18T17:09:15.967165Z",
     "start_time": "2024-02-18T17:09:15.964951Z"
    }
   },
   "id": "3a11b03886772640",
   "execution_count": 69
  },
  {
   "cell_type": "markdown",
   "source": [
    "4. Implement Feed Forward Neural Network with two hidden layers for classifying \n",
    "handwritten digits using MNIST dataset. Display the classification accuracy in the form \n",
    "of a Confusion matrix. Verify the number of learnable parameters in the model."
   ],
   "metadata": {
    "collapsed": false
   },
   "id": "ee4977fe4a8dbb47"
  },
  {
   "cell_type": "code",
   "outputs": [],
   "source": [
    "import torch\n",
    "import torch.nn as nn\n",
    "import torchvision\n",
    "import torchvision.transforms as transform\n",
    "from torchvision.transforms import ToTensor\n",
    "import torchvision.datasets as datasets\n",
    "from torch.utils.data import Dataset,DataLoader"
   ],
   "metadata": {
    "collapsed": false,
    "ExecuteTime": {
     "end_time": "2024-02-19T12:46:53.429426Z",
     "start_time": "2024-02-19T12:46:52.089121Z"
    }
   },
   "id": "3e2ee61d5f8c3cd3",
   "execution_count": 1
  },
  {
   "cell_type": "code",
   "outputs": [],
   "source": [
    "class MyClassifier(nn.Module):\n",
    "    def __init__(self):\n",
    "        super(MyClassifier, self).__init__()\n",
    "        self.net = nn.Sequential(nn.Linear(784,100, bias=True),\n",
    "                                 nn.ReLU(),\n",
    "                                 nn.Linear(100,100,bias=True),\n",
    "                                 nn.ReLU(),\n",
    "                                 nn.Linear(100,10,bias=True))\n",
    "    def forward(self, x):\n",
    "        x = x.view(-1, 784)\n",
    "        return self.net(x)"
   ],
   "metadata": {
    "collapsed": false,
    "ExecuteTime": {
     "end_time": "2024-02-19T12:46:53.434478Z",
     "start_time": "2024-02-19T12:46:53.430197Z"
    }
   },
   "id": "437e1505a9ed05a3",
   "execution_count": 2
  },
  {
   "cell_type": "code",
   "outputs": [],
   "source": [
    "mnist_trainset = datasets.MNIST(root='./data', train=True, download=True, transform=ToTensor())\n",
    "train_loader = DataLoader(mnist_trainset,batch_size=50, shuffle=True)\n",
    "\n",
    "mnist_testset = datasets.MNIST(root='./data', train=False, download=True, transform=ToTensor())\n",
    "test_loader = DataLoader(mnist_testset, batch_size=50, shuffle=True)"
   ],
   "metadata": {
    "collapsed": false,
    "ExecuteTime": {
     "end_time": "2024-02-19T12:46:53.483136Z",
     "start_time": "2024-02-19T12:46:53.432995Z"
    }
   },
   "id": "5fe6da255805a188",
   "execution_count": 3
  },
  {
   "cell_type": "code",
   "outputs": [],
   "source": [
    "device = torch.device(\"cuda\" if torch.cuda.is_available() else \"cpu\")\n",
    "model = MyClassifier().to(device)\n",
    "loss_fn = nn.CrossEntropyLoss()\n",
    "optimizer = torch.optim.SGD(model.parameters(), lr=0.01)\n",
    "\n",
    "total_params = 0\n",
    "for name, param in model.named_parameters():\n",
    "    params = param.numel()\n",
    "    total_params += params"
   ],
   "metadata": {
    "collapsed": false,
    "ExecuteTime": {
     "end_time": "2024-02-19T12:46:53.489572Z",
     "start_time": "2024-02-19T12:46:53.484136Z"
    }
   },
   "id": "d988d2ad56244f53",
   "execution_count": 4
  },
  {
   "cell_type": "code",
   "outputs": [
    {
     "name": "stdout",
     "output_type": "stream",
     "text": [
      "[1,   100] loss: 2.295\n",
      "[1,   200] loss: 2.265\n",
      "[1,   300] loss: 2.218\n",
      "[1,   400] loss: 2.138\n",
      "[1,   500] loss: 1.987\n",
      "[1,   600] loss: 1.762\n",
      "[1,   700] loss: 1.464\n",
      "[1,   800] loss: 1.179\n",
      "[1,   900] loss: 0.964\n",
      "[1,  1000] loss: 0.831\n",
      "[1,  1100] loss: 0.740\n",
      "[1,  1200] loss: 0.662\n",
      "[2,   100] loss: 0.622\n",
      "[2,   200] loss: 0.563\n",
      "[2,   300] loss: 0.545\n",
      "[2,   400] loss: 0.527\n",
      "[2,   500] loss: 0.497\n",
      "[2,   600] loss: 0.489\n",
      "[2,   700] loss: 0.450\n",
      "[2,   800] loss: 0.455\n",
      "[2,   900] loss: 0.421\n",
      "[2,  1000] loss: 0.414\n",
      "[2,  1100] loss: 0.402\n",
      "[2,  1200] loss: 0.412\n",
      "[3,   100] loss: 0.387\n",
      "[3,   200] loss: 0.415\n",
      "[3,   300] loss: 0.360\n",
      "[3,   400] loss: 0.356\n",
      "[3,   500] loss: 0.376\n",
      "[3,   600] loss: 0.369\n",
      "[3,   700] loss: 0.384\n",
      "[3,   800] loss: 0.373\n",
      "[3,   900] loss: 0.346\n",
      "[3,  1000] loss: 0.348\n",
      "[3,  1100] loss: 0.329\n",
      "[3,  1200] loss: 0.349\n",
      "[4,   100] loss: 0.342\n",
      "[4,   200] loss: 0.331\n",
      "[4,   300] loss: 0.340\n",
      "[4,   400] loss: 0.327\n",
      "[4,   500] loss: 0.328\n",
      "[4,   600] loss: 0.307\n",
      "[4,   700] loss: 0.309\n",
      "[4,   800] loss: 0.307\n",
      "[4,   900] loss: 0.307\n",
      "[4,  1000] loss: 0.303\n",
      "[4,  1100] loss: 0.316\n",
      "[4,  1200] loss: 0.303\n",
      "[5,   100] loss: 0.294\n",
      "[5,   200] loss: 0.304\n",
      "[5,   300] loss: 0.287\n",
      "[5,   400] loss: 0.299\n",
      "[5,   500] loss: 0.283\n",
      "[5,   600] loss: 0.280\n",
      "[5,   700] loss: 0.289\n",
      "[5,   800] loss: 0.277\n",
      "[5,   900] loss: 0.301\n",
      "[5,  1000] loss: 0.297\n",
      "[5,  1100] loss: 0.260\n",
      "[5,  1200] loss: 0.264\n",
      "[6,   100] loss: 0.277\n",
      "[6,   200] loss: 0.265\n",
      "[6,   300] loss: 0.256\n",
      "[6,   400] loss: 0.275\n",
      "[6,   500] loss: 0.286\n",
      "[6,   600] loss: 0.258\n",
      "[6,   700] loss: 0.272\n",
      "[6,   800] loss: 0.277\n",
      "[6,   900] loss: 0.236\n",
      "[6,  1000] loss: 0.260\n",
      "[6,  1100] loss: 0.240\n",
      "[6,  1200] loss: 0.251\n",
      "Finished Training. Final loss = 0.1252928227186203, Total params = 89610\n",
      "Correct = 9300, Total = 10000\n",
      "[960, 0, 11, 2, 1, 10, 12, 3, 11, 12]\n",
      "[0, 1111, 4, 1, 2, 3, 3, 7, 7, 7]\n",
      "[4, 3, 952, 21, 4, 6, 4, 25, 9, 1]\n",
      "[1, 2, 12, 935, 0, 33, 1, 6, 26, 9]\n",
      "[0, 0, 7, 0, 908, 6, 9, 6, 11, 23]\n",
      "[3, 1, 0, 18, 0, 783, 6, 0, 21, 5]\n",
      "[10, 4, 14, 3, 14, 19, 921, 0, 17, 0]\n",
      "[1, 2, 10, 13, 2, 6, 1, 956, 14, 13]\n",
      "[1, 12, 17, 11, 3, 16, 1, 2, 838, 3]\n",
      "[0, 0, 5, 6, 48, 10, 0, 23, 20, 936]\n"
     ]
    }
   ],
   "source": [
    "for epoch in range(6):\n",
    "    running_loss = 0.0\n",
    "    for i, data in enumerate(train_loader):\n",
    "        inputs, labels = data[0].to(device), data[1].to(device)\n",
    "        optimizer.zero_grad()\n",
    "        outputs = model(inputs)\n",
    "        loss = loss_fn(outputs, labels)\n",
    "        loss.backward()\n",
    "        optimizer.step()\n",
    "        running_loss += loss.item()\n",
    "        if i%100 == 99:\n",
    "            print('[%d, %5d] loss: %.3f' %(epoch + 1, i + 1, running_loss / 100))\n",
    "            running_loss = 0.0\n",
    "            \n",
    "print(f\"Finished Training. Final loss = {loss.item()}, Total params = {total_params}\")\n",
    "\n",
    "mat = [[0 for _ in range(10)] for _ in range(10)]\n",
    "correct, total = 0,0\n",
    "for i, vdata in enumerate(test_loader):\n",
    "    tinputs,tlabels = vdata[0].to(device), vdata[1].to(device)\n",
    "    toutputs = model(tinputs)\n",
    "    \n",
    "    _,predicted = torch.max(toutputs,1)\n",
    "    total += tlabels.size(0)\n",
    "    correct += (predicted==tlabels).sum()\n",
    "    for i in range(len(predicted)):\n",
    "        mat[predicted[i].item()][tlabels[i].item()] += 1\n",
    "        \n",
    "print(f\"Correct = {correct}, Total = {total}\")\n",
    "for i in range(10):\n",
    "    print(mat[i])  \n"
   ],
   "metadata": {
    "collapsed": false,
    "ExecuteTime": {
     "end_time": "2024-02-19T12:47:02.617342Z",
     "start_time": "2024-02-19T12:46:53.490415Z"
    }
   },
   "id": "f0bfa52d83ba5443",
   "execution_count": 5
  },
  {
   "cell_type": "code",
   "outputs": [
    {
     "name": "stdout",
     "output_type": "stream",
     "text": [
      "[960, 0, 11, 2, 1, 10, 12, 3, 11, 12]\n",
      "[0, 1111, 4, 1, 2, 3, 3, 7, 7, 7]\n",
      "[4, 3, 952, 21, 4, 6, 4, 25, 9, 1]\n",
      "[1, 2, 12, 935, 0, 33, 1, 6, 26, 9]\n",
      "[0, 0, 7, 0, 908, 6, 9, 6, 11, 23]\n",
      "[3, 1, 0, 18, 0, 783, 6, 0, 21, 5]\n",
      "[10, 4, 14, 3, 14, 19, 921, 0, 17, 0]\n",
      "[1, 2, 10, 13, 2, 6, 1, 956, 14, 13]\n",
      "[1, 12, 17, 11, 3, 16, 1, 2, 838, 3]\n",
      "[0, 0, 5, 6, 48, 10, 0, 23, 20, 936]\n"
     ]
    }
   ],
   "source": [
    "for i in range(10):\n",
    "    print(mat[i]) "
   ],
   "metadata": {
    "collapsed": false,
    "ExecuteTime": {
     "end_time": "2024-02-19T12:47:02.620939Z",
     "start_time": "2024-02-19T12:47:02.617416Z"
    }
   },
   "id": "6e6af6a8543318fc",
   "execution_count": 6
  }
 ],
 "metadata": {
  "kernelspec": {
   "display_name": "Python 3",
   "language": "python",
   "name": "python3"
  },
  "language_info": {
   "codemirror_mode": {
    "name": "ipython",
    "version": 2
   },
   "file_extension": ".py",
   "mimetype": "text/x-python",
   "name": "python",
   "nbconvert_exporter": "python",
   "pygments_lexer": "ipython2",
   "version": "2.7.6"
  }
 },
 "nbformat": 4,
 "nbformat_minor": 5
}
