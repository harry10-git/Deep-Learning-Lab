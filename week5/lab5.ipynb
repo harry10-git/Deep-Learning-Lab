{
 "cells": [
  {
   "cell_type": "markdown",
   "source": [
    "## Convolution Neural Networks"
   ],
   "metadata": {
    "collapsed": false
   },
   "id": "c5c40b344fe4a5d0"
  },
  {
   "cell_type": "markdown",
   "source": [
    "1. Implement convolution operation for a sample image of shape (H=6, W=6, C=1) with a \n",
    "random kernel of size (3,3) using torch.nn.functional.conv2d."
   ],
   "metadata": {
    "collapsed": false
   },
   "id": "74b4737c1bd17522"
  },
  {
   "cell_type": "code",
   "outputs": [],
   "source": [
    "import math\n",
    "import torch\n",
    "import torch.nn.functional as F\n",
    "from torch.nn import CrossEntropyLoss"
   ],
   "metadata": {
    "collapsed": false,
    "ExecuteTime": {
     "end_time": "2024-02-19T13:49:46.250551Z",
     "start_time": "2024-02-19T13:49:46.211914Z"
    }
   },
   "id": "3ff1f4770df9f39e",
   "execution_count": 103
  },
  {
   "cell_type": "code",
   "outputs": [
    {
     "name": "stdout",
     "output_type": "stream",
     "text": [
      "image =  tensor([[0.9042, 0.1685, 0.0168, 0.2828, 0.9228, 0.1715],\n",
      "        [0.5985, 0.3664, 0.7256, 0.8542, 0.4800, 0.3190],\n",
      "        [0.7560, 0.7380, 0.3244, 0.9700, 0.1790, 0.5778],\n",
      "        [0.1963, 0.4627, 0.7059, 0.9004, 0.9859, 0.4096],\n",
      "        [0.9372, 0.3218, 0.3700, 0.9602, 0.9262, 0.9760],\n",
      "        [0.0780, 0.1357, 0.1765, 0.2765, 0.6937, 0.0067]])\n"
     ]
    }
   ],
   "source": [
    "image = torch.rand(6,6)\n",
    "print('image = ', image)"
   ],
   "metadata": {
    "collapsed": false,
    "ExecuteTime": {
     "end_time": "2024-02-19T13:49:46.255643Z",
     "start_time": "2024-02-19T13:49:46.248779Z"
    }
   },
   "id": "fa4cbc66e6c31f",
   "execution_count": 104
  },
  {
   "cell_type": "code",
   "outputs": [
    {
     "name": "stdout",
     "output_type": "stream",
     "text": [
      "image.shape =  torch.Size([1, 6, 6])\n",
      "image.shape =  torch.Size([1, 1, 6, 6])\n"
     ]
    }
   ],
   "source": [
    "# pytorch expects 4d tensor for conv2D\n",
    "image = image.unsqueeze(dim = 0)\n",
    "print('image.shape = ', image.shape)\n",
    "image = image.unsqueeze(dim = 0)\n",
    "print('image.shape = ', image.shape)"
   ],
   "metadata": {
    "collapsed": false,
    "ExecuteTime": {
     "end_time": "2024-02-19T13:49:46.259505Z",
     "start_time": "2024-02-19T13:49:46.255394Z"
    }
   },
   "id": "bb23a06d4b317bf4",
   "execution_count": 105
  },
  {
   "cell_type": "code",
   "outputs": [
    {
     "name": "stdout",
     "output_type": "stream",
     "text": [
      "image =  tensor([[[[0.9042, 0.1685, 0.0168, 0.2828, 0.9228, 0.1715],\n",
      "          [0.5985, 0.3664, 0.7256, 0.8542, 0.4800, 0.3190],\n",
      "          [0.7560, 0.7380, 0.3244, 0.9700, 0.1790, 0.5778],\n",
      "          [0.1963, 0.4627, 0.7059, 0.9004, 0.9859, 0.4096],\n",
      "          [0.9372, 0.3218, 0.3700, 0.9602, 0.9262, 0.9760],\n",
      "          [0.0780, 0.1357, 0.1765, 0.2765, 0.6937, 0.0067]]]])\n"
     ]
    }
   ],
   "source": [
    "print('image = ', image)"
   ],
   "metadata": {
    "collapsed": false,
    "ExecuteTime": {
     "end_time": "2024-02-19T13:49:46.274142Z",
     "start_time": "2024-02-19T13:49:46.264918Z"
    }
   },
   "id": "40c54ec9b4a91c2d",
   "execution_count": 106
  },
  {
   "cell_type": "code",
   "outputs": [
    {
     "name": "stdout",
     "output_type": "stream",
     "text": [
      "kernel =  tensor([[[[1., 1., 1.],\n",
      "          [1., 1., 1.],\n",
      "          [1., 1., 1.]]]])\n"
     ]
    }
   ],
   "source": [
    "kernel = torch.ones(3,3)\n",
    "kernel = kernel.unsqueeze(dim = 0)\n",
    "kernel = kernel.unsqueeze(dim = 0)\n",
    "print('kernel = ', kernel)"
   ],
   "metadata": {
    "collapsed": false,
    "ExecuteTime": {
     "end_time": "2024-02-19T13:49:46.275489Z",
     "start_time": "2024-02-19T13:49:46.267428Z"
    }
   },
   "id": "d76c996121929453",
   "execution_count": 107
  },
  {
   "cell_type": "code",
   "outputs": [
    {
     "name": "stdout",
     "output_type": "stream",
     "text": [
      "outimage =  tensor([[[[4.5983, 4.4466, 4.7555, 4.7571],\n",
      "          [4.8738, 6.0475, 6.1252, 5.6758],\n",
      "          [4.8123, 5.7532, 6.3218, 6.8850],\n",
      "          [3.3841, 4.3096, 5.9951, 6.1351]]]])\n",
      "outimage.shape =  torch.Size([1, 1, 4, 4])\n"
     ]
    }
   ],
   "source": [
    "outimage = F.conv2d(image, kernel, stride=1, padding=0)\n",
    "print('outimage = ', outimage)\n",
    "print('outimage.shape = ', outimage.shape)"
   ],
   "metadata": {
    "collapsed": false,
    "ExecuteTime": {
     "end_time": "2024-02-19T13:49:46.277842Z",
     "start_time": "2024-02-19T13:49:46.269968Z"
    }
   },
   "id": "7882726c9def20e6",
   "execution_count": 108
  },
  {
   "cell_type": "code",
   "outputs": [],
   "source": [
    "def op_shape(input,kernel, padding, stride):\n",
    "    return math.floor(((input-kernel + 2*padding)/stride)+1)"
   ],
   "metadata": {
    "collapsed": false,
    "ExecuteTime": {
     "end_time": "2024-02-19T13:49:46.292831Z",
     "start_time": "2024-02-19T13:49:46.275274Z"
    }
   },
   "id": "ff0a366c597eb5de",
   "execution_count": 109
  },
  {
   "cell_type": "code",
   "outputs": [
    {
     "name": "stdout",
     "output_type": "stream",
     "text": [
      "padding = 0, stride = 1 : shape = torch.Size([1, 1, 4, 4])\n",
      "manual =  4\n",
      "padding = 0, stride = 2 : shape = torch.Size([1, 1, 2, 2])\n",
      "manual =  2\n",
      "padding = 0, stride = 3 : shape = torch.Size([1, 1, 2, 2])\n",
      "manual =  2\n"
     ]
    }
   ],
   "source": [
    "# varying stride\n",
    "for s in range(1,4):\n",
    "    outimage = F.conv2d(image, kernel, stride=s, padding=0)\n",
    "    print('padding = 0, stride = {} : shape = {}'.format( s, outimage.shape))\n",
    "    print('manual = ', op_shape(6,3,0,s))"
   ],
   "metadata": {
    "collapsed": false,
    "ExecuteTime": {
     "end_time": "2024-02-19T13:49:46.323614Z",
     "start_time": "2024-02-19T13:49:46.278017Z"
    }
   },
   "id": "11b778053c6e207e",
   "execution_count": 110
  },
  {
   "cell_type": "code",
   "outputs": [
    {
     "name": "stdout",
     "output_type": "stream",
     "text": [
      "padding = 1, stride = 1 : shape = torch.Size([1, 1, 6, 6])\n",
      "manual =  6\n",
      "padding = 2, stride = 1 : shape = torch.Size([1, 1, 8, 8])\n",
      "manual =  8\n",
      "padding = 3, stride = 1 : shape = torch.Size([1, 1, 10, 10])\n",
      "manual =  10\n"
     ]
    }
   ],
   "source": [
    "# varying padding\n",
    "for p in range(1,4):\n",
    "    outimage = F.conv2d(image, kernel, stride=1, padding=p)\n",
    "    print('padding = {}, stride = 1 : shape = {}'.format( p, outimage.shape))\n",
    "    print('manual = ', op_shape(6,3,p,1))"
   ],
   "metadata": {
    "collapsed": false,
    "ExecuteTime": {
     "end_time": "2024-02-19T13:49:46.327188Z",
     "start_time": "2024-02-19T13:49:46.294990Z"
    }
   },
   "id": "32dfb454cfe02dec",
   "execution_count": 111
  },
  {
   "cell_type": "code",
   "outputs": [
    {
     "name": "stdout",
     "output_type": "stream",
     "text": [
      "Number of parameters is  9\n"
     ]
    }
   ],
   "source": [
    "print('Number of parameters is ', kernel.numel())"
   ],
   "metadata": {
    "collapsed": false,
    "ExecuteTime": {
     "end_time": "2024-02-19T13:49:46.345610Z",
     "start_time": "2024-02-19T13:49:46.327994Z"
    }
   },
   "id": "81093dc374e397d7",
   "execution_count": 112
  },
  {
   "cell_type": "markdown",
   "source": [
    "2. Apply torch.nn.Conv2d to the input image of Qn 1 with out-channel=3 and observe the \n",
    "output. Implement the equivalent of torch.nn.Conv2d using the torch.nn.functional.conv2D \n",
    "to get the same output. You may ignore bias."
   ],
   "metadata": {
    "collapsed": false
   },
   "id": "4c91c5318e8fe553"
  },
  {
   "cell_type": "code",
   "outputs": [],
   "source": [
    "import torch\n",
    "import torch.nn as nn\n",
    "import torch.nn.functional as F\n",
    "\n",
    "image = torch.tensor([[[[0.2517, 0.5768, 0.9246, 0.1770, 0.3891, 0.6804],\n",
    "          [0.8635, 0.5554, 0.8212, 0.7538, 0.7803, 0.8810],\n",
    "          [0.8095, 0.1976, 0.2323, 0.0450, 0.3380, 0.3387],\n",
    "          [0.2954, 0.2963, 0.1823, 0.2339, 0.9487, 0.2513],\n",
    "          [0.7728, 0.9064, 0.6118, 0.9394, 0.5194, 0.3010],\n",
    "          [0.1860, 0.3665, 0.1029, 0.9466, 0.9219, 0.4264]]]])"
   ],
   "metadata": {
    "collapsed": false,
    "ExecuteTime": {
     "end_time": "2024-02-19T13:49:46.367794Z",
     "start_time": "2024-02-19T13:49:46.348475Z"
    }
   },
   "id": "9545dc593185bc02",
   "execution_count": 113
  },
  {
   "cell_type": "code",
   "outputs": [
    {
     "name": "stdout",
     "output_type": "stream",
     "text": [
      "kernel parameters for 3 channels:  Parameter containing:\n",
      "tensor([[[[ 0.0173, -0.1287,  0.2598],\n",
      "          [ 0.1672, -0.1871,  0.1390],\n",
      "          [ 0.1087,  0.1387,  0.1585]]],\n",
      "\n",
      "\n",
      "        [[[ 0.0637,  0.2431, -0.1166],\n",
      "          [-0.1377,  0.0585,  0.2176],\n",
      "          [-0.0028, -0.1985,  0.2478]]],\n",
      "\n",
      "\n",
      "        [[[-0.2266, -0.0065, -0.1006],\n",
      "          [ 0.0595, -0.3144, -0.3321],\n",
      "          [ 0.0537, -0.3095,  0.1487]]]], requires_grad=True)\n"
     ]
    }
   ],
   "source": [
    "conv = nn.Conv2d(in_channels=1, out_channels=3, kernel_size=3, stride=1, padding=0, bias=False)\n",
    "kernel = conv.weight\n",
    "print('kernel parameters for 3 channels: ', kernel)"
   ],
   "metadata": {
    "collapsed": false,
    "ExecuteTime": {
     "end_time": "2024-02-19T13:49:46.369967Z",
     "start_time": "2024-02-19T13:49:46.356892Z"
    }
   },
   "id": "c9cb21a94605f9a9",
   "execution_count": 114
  },
  {
   "cell_type": "code",
   "outputs": [
    {
     "name": "stdout",
     "output_type": "stream",
     "text": [
      "Output image using torch.nn.Conv2d: \n",
      "tensor([[[[ 0.4772,  0.0418,  0.2841,  0.3377],\n",
      "          [ 0.3896,  0.1902,  0.4000,  0.3297],\n",
      "          [ 0.3750,  0.3655,  0.4837,  0.1637],\n",
      "          [ 0.1464,  0.4143,  0.5069,  0.3474]],\n",
      "\n",
      "         [[ 0.1568,  0.3409,  0.2315,  0.1768],\n",
      "          [ 0.0305,  0.1643,  0.3769,  0.0956],\n",
      "          [ 0.0583,  0.1933,  0.1218,  0.0923],\n",
      "          [ 0.1015,  0.3644,  0.0818,  0.1027]],\n",
      "\n",
      "         [[-0.5329, -0.6847, -0.6483, -0.6560],\n",
      "          [-0.4218, -0.2890, -0.3036, -0.7243],\n",
      "          [-0.4923, -0.1692, -0.6453, -0.4799],\n",
      "          [-0.6176, -0.4137, -0.7201, -0.4630]]]],\n",
      "       grad_fn=<ConvolutionBackward0>)\n"
     ]
    }
   ],
   "source": [
    "print(\"Output image using torch.nn.Conv2d: \")\n",
    "out_img = conv(image)\n",
    "print(out_img)"
   ],
   "metadata": {
    "collapsed": false,
    "ExecuteTime": {
     "end_time": "2024-02-19T13:49:46.380325Z",
     "start_time": "2024-02-19T13:49:46.371366Z"
    }
   },
   "id": "9bbad65b2967ea1d",
   "execution_count": 115
  },
  {
   "cell_type": "code",
   "outputs": [
    {
     "name": "stdout",
     "output_type": "stream",
     "text": [
      "Output image using torch.nn.functional.Conv2d: \n",
      "tensor([[[[ 0.4772,  0.0418,  0.2841,  0.3377],\n",
      "          [ 0.3896,  0.1902,  0.4000,  0.3297],\n",
      "          [ 0.3750,  0.3655,  0.4837,  0.1637],\n",
      "          [ 0.1464,  0.4143,  0.5069,  0.3474]],\n",
      "\n",
      "         [[ 0.1568,  0.3409,  0.2315,  0.1768],\n",
      "          [ 0.0305,  0.1643,  0.3769,  0.0956],\n",
      "          [ 0.0583,  0.1933,  0.1218,  0.0923],\n",
      "          [ 0.1015,  0.3644,  0.0818,  0.1027]],\n",
      "\n",
      "         [[-0.5329, -0.6847, -0.6483, -0.6560],\n",
      "          [-0.4218, -0.2890, -0.3036, -0.7243],\n",
      "          [-0.4923, -0.1692, -0.6453, -0.4799],\n",
      "          [-0.6176, -0.4137, -0.7201, -0.4630]]]],\n",
      "       grad_fn=<ConvolutionBackward0>)\n"
     ]
    }
   ],
   "source": [
    "out_img = F.conv2d(image,kernel, stride=1, padding=0)\n",
    "print(\"Output image using torch.nn.functional.Conv2d: \")\n",
    "print(out_img)"
   ],
   "metadata": {
    "collapsed": false,
    "ExecuteTime": {
     "end_time": "2024-02-19T13:49:46.395297Z",
     "start_time": "2024-02-19T13:49:46.377379Z"
    }
   },
   "id": "1c132b59dd516726",
   "execution_count": 116
  },
  {
   "cell_type": "markdown",
   "source": [
    "3. Implement CNN for classifying digits in MNIST dataset using PyTorch. Display the \n",
    "classification accuracy in the form of a Confusion matrix. Verify the number of learnable \n",
    "parameters in the model"
   ],
   "metadata": {
    "collapsed": false
   },
   "id": "8892900d011dbc28"
  },
  {
   "cell_type": "code",
   "outputs": [],
   "source": [
    "import torch\n",
    "import torch.nn as nn\n",
    "import torchvision.datasets as datasets\n",
    "from torch.utils.data import Dataset,DataLoader\n",
    "import torchvision.transforms as transform\n",
    "from torchvision.transforms import ToTensor\n",
    "from torchvision.datasets import MNIST"
   ],
   "metadata": {
    "collapsed": false,
    "ExecuteTime": {
     "end_time": "2024-02-19T16:57:00.854821Z",
     "start_time": "2024-02-19T16:56:59.271511Z"
    }
   },
   "id": "fff5ab397516bbae",
   "execution_count": 1
  },
  {
   "cell_type": "code",
   "outputs": [],
   "source": [
    "class CNNClassifier(nn.Module):\n",
    "    def __init__(self):\n",
    "        super(CNNClassifier, self).__init__()\n",
    "        self.net = nn.Sequential(\n",
    "            nn.Conv2d(1, 64, kernel_size=3),\n",
    "            nn.ReLU(),\n",
    "            nn.MaxPool2d((2, 2), stride=2),\n",
    "            nn.Conv2d(64, 128, kernel_size=3),\n",
    "            nn.ReLU(),\n",
    "            nn.MaxPool2d((2, 2), stride=2),\n",
    "            nn.Conv2d(128, 64, kernel_size=3),\n",
    "            nn.ReLU(),\n",
    "            nn.MaxPool2d((2, 2), stride=2)\n",
    "        )\n",
    "        self.classification_head = nn.Sequential(\n",
    "            nn.Linear(64, 20, bias=True),\n",
    "            nn.ReLU(),\n",
    "            nn.Linear(20, 10, bias=True)\n",
    "        )            \n",
    "        \n",
    "    def forward(self, x):\n",
    "        features = self.net(x)\n",
    "        return self.classification_head(features.view(features.shape[0], -1))"
   ],
   "metadata": {
    "collapsed": false,
    "ExecuteTime": {
     "end_time": "2024-02-19T16:57:00.858354Z",
     "start_time": "2024-02-19T16:57:00.852739Z"
    }
   },
   "id": "6d97d9809356453c",
   "execution_count": 2
  },
  {
   "cell_type": "code",
   "outputs": [],
   "source": [
    "mnist_trainset = datasets.MNIST(root=\"./data\",download = True,train=True,transform=ToTensor())\n",
    "train_loader = DataLoader(mnist_trainset,batch_size=50,shuffle=True)\n",
    "mnist_testset = datasets.MNIST(root=\"./data\",download = True,train=False,transform=ToTensor())\n",
    "test_loader = DataLoader(mnist_testset,batch_size=50,shuffle=True)"
   ],
   "metadata": {
    "collapsed": false,
    "ExecuteTime": {
     "end_time": "2024-02-19T16:57:00.922916Z",
     "start_time": "2024-02-19T16:57:00.856709Z"
    }
   },
   "id": "4364500bb9909177",
   "execution_count": 3
  },
  {
   "cell_type": "code",
   "outputs": [],
   "source": [
    "device = torch.device(\"cuda\" if torch.cuda.is_available() else \"cpu\")\n",
    "model = CNNClassifier().to(device)\n",
    "loss_fn = nn.CrossEntropyLoss()\n",
    "optimizer = torch.optim.SGD(model.parameters(), lr=0.01)\n",
    "batch_size=50"
   ],
   "metadata": {
    "collapsed": false,
    "ExecuteTime": {
     "end_time": "2024-02-19T16:57:00.923802Z",
     "start_time": "2024-02-19T16:57:00.911925Z"
    }
   },
   "id": "621e43fdd03bb313",
   "execution_count": 4
  },
  {
   "cell_type": "code",
   "outputs": [],
   "source": [
    "total_params = 0\n",
    "for name,param in model.named_parameters():\n",
    "    params = param.numel()\n",
    "    total_params += params"
   ],
   "metadata": {
    "collapsed": false,
    "ExecuteTime": {
     "end_time": "2024-02-19T16:57:01.691562Z",
     "start_time": "2024-02-19T16:57:01.669878Z"
    }
   },
   "id": "3c363716e61c0cce",
   "execution_count": 5
  },
  {
   "cell_type": "code",
   "outputs": [
    {
     "name": "stdout",
     "output_type": "stream",
     "text": [
      "[1,   100] loss: 2.310\n",
      "[1,   200] loss: 2.301\n",
      "[1,   300] loss: 2.293\n",
      "[1,   400] loss: 2.285\n",
      "[1,   500] loss: 2.269\n",
      "[1,   600] loss: 2.246\n",
      "[1,   700] loss: 2.209\n",
      "[1,   800] loss: 2.130\n",
      "[1,   900] loss: 1.962\n",
      "[1,  1000] loss: 1.582\n",
      "[1,  1100] loss: 1.206\n",
      "[1,  1200] loss: 0.945\n",
      "[2,   100] loss: 0.772\n",
      "[2,   200] loss: 0.662\n",
      "[2,   300] loss: 0.586\n",
      "[2,   400] loss: 0.500\n",
      "[2,   500] loss: 0.464\n",
      "[2,   600] loss: 0.406\n",
      "[2,   700] loss: 0.383\n",
      "[2,   800] loss: 0.358\n",
      "[2,   900] loss: 0.316\n",
      "[2,  1000] loss: 0.288\n",
      "[2,  1100] loss: 0.290\n",
      "[2,  1200] loss: 0.294\n",
      "[3,   100] loss: 0.259\n",
      "[3,   200] loss: 0.255\n",
      "[3,   300] loss: 0.236\n",
      "[3,   400] loss: 0.223\n",
      "[3,   500] loss: 0.205\n",
      "[3,   600] loss: 0.220\n",
      "[3,   700] loss: 0.223\n",
      "[3,   800] loss: 0.219\n",
      "[3,   900] loss: 0.220\n",
      "[3,  1000] loss: 0.195\n",
      "[3,  1100] loss: 0.194\n",
      "[3,  1200] loss: 0.197\n",
      "[4,   100] loss: 0.201\n",
      "[4,   200] loss: 0.181\n",
      "[4,   300] loss: 0.178\n",
      "[4,   400] loss: 0.168\n",
      "[4,   500] loss: 0.161\n",
      "[4,   600] loss: 0.173\n",
      "[4,   700] loss: 0.175\n",
      "[4,   800] loss: 0.158\n",
      "[4,   900] loss: 0.158\n",
      "[4,  1000] loss: 0.146\n",
      "[4,  1100] loss: 0.154\n",
      "[4,  1200] loss: 0.131\n",
      "[5,   100] loss: 0.149\n",
      "[5,   200] loss: 0.136\n",
      "[5,   300] loss: 0.163\n",
      "[5,   400] loss: 0.145\n",
      "[5,   500] loss: 0.133\n",
      "[5,   600] loss: 0.141\n",
      "[5,   700] loss: 0.131\n",
      "[5,   800] loss: 0.143\n",
      "[5,   900] loss: 0.133\n",
      "[5,  1000] loss: 0.129\n",
      "[5,  1100] loss: 0.120\n",
      "[5,  1200] loss: 0.120\n",
      "[6,   100] loss: 0.120\n",
      "[6,   200] loss: 0.148\n",
      "[6,   300] loss: 0.114\n",
      "[6,   400] loss: 0.121\n",
      "[6,   500] loss: 0.104\n",
      "[6,   600] loss: 0.127\n",
      "[6,   700] loss: 0.114\n",
      "[6,   800] loss: 0.116\n",
      "[6,   900] loss: 0.119\n",
      "[6,  1000] loss: 0.106\n",
      "[6,  1100] loss: 0.118\n",
      "[6,  1200] loss: 0.099\n",
      "Finished Training. Final loss = 0.12525691092014313, Total params = 149798\n"
     ]
    }
   ],
   "source": [
    "for epoch in range(6):  \n",
    "    running_loss = 0.0\n",
    "    for i, data in enumerate(train_loader, 0):\n",
    "        inputs, labels = data[0].to(device), data[1].to(device)\n",
    "\n",
    "        optimizer.zero_grad()\n",
    "\n",
    "        outputs = model(inputs)\n",
    "        loss = loss_fn(outputs, labels)\n",
    "        loss.backward()\n",
    "        optimizer.step()\n",
    "\n",
    "        running_loss += loss.item()\n",
    "        if i % 100 == 99:  \n",
    "            print('[%d, %5d] loss: %.3f' %(epoch + 1, i + 1, running_loss / 100))\n",
    "            running_loss = 0.0\n",
    "\n",
    "print(f\"Finished Training. Final loss = {loss.item()}, Total params = {total_params}\")\n"
   ],
   "metadata": {
    "collapsed": false,
    "ExecuteTime": {
     "end_time": "2024-02-19T17:00:54.708649Z",
     "start_time": "2024-02-19T16:57:02.460538Z"
    }
   },
   "id": "ae881155b0884027",
   "execution_count": 6
  },
  {
   "cell_type": "code",
   "outputs": [
    {
     "name": "stdout",
     "output_type": "stream",
     "text": [
      "Correct = 9716, Total = 10000\n"
     ]
    }
   ],
   "source": [
    "correct,total = 0,0\n",
    "mat = [[0 for _ in range(10)] for _ in range(10)]\n",
    "for i,vdata in enumerate(test_loader):\n",
    "    tinputs,tlabels = vdata[0].to(device), vdata[1].to(device)\n",
    "    toutputs = model(tinputs)\n",
    "\n",
    "    _,predicted = torch.max(toutputs,1)\n",
    "    total += tlabels.size(0)\n",
    "    correct += (predicted==tlabels).sum()\n",
    "    for i in range(len(predicted)):\n",
    "        mat[predicted[i].item()][tlabels[i].item()] += 1\n",
    "        \n",
    "print(f\"Correct = {correct}, Total = {total}\")"
   ],
   "metadata": {
    "collapsed": false,
    "ExecuteTime": {
     "end_time": "2024-02-19T17:00:57.407018Z",
     "start_time": "2024-02-19T17:00:54.707291Z"
    }
   },
   "id": "2af9021eb4fb3da0",
   "execution_count": 7
  },
  {
   "cell_type": "code",
   "outputs": [
    {
     "name": "stdout",
     "output_type": "stream",
     "text": [
      "[967, 0, 9, 0, 3, 3, 9, 2, 3, 4]\n",
      "[1, 1128, 0, 1, 0, 0, 3, 6, 1, 2]\n",
      "[1, 2, 991, 8, 0, 0, 0, 18, 3, 0]\n",
      "[0, 2, 3, 980, 0, 4, 0, 2, 4, 2]\n",
      "[2, 0, 3, 0, 963, 1, 7, 0, 5, 14]\n",
      "[3, 0, 2, 7, 0, 874, 9, 1, 9, 10]\n",
      "[3, 1, 2, 0, 2, 3, 928, 0, 2, 0]\n",
      "[1, 0, 18, 7, 2, 2, 0, 989, 5, 6]\n",
      "[2, 2, 4, 4, 2, 4, 2, 4, 930, 5]\n",
      "[0, 0, 0, 3, 10, 1, 0, 6, 12, 966]\n"
     ]
    }
   ],
   "source": [
    "for i in range(10):\n",
    "    print(mat[i]) "
   ],
   "metadata": {
    "collapsed": false,
    "ExecuteTime": {
     "end_time": "2024-02-19T17:00:57.413804Z",
     "start_time": "2024-02-19T17:00:57.408119Z"
    }
   },
   "id": "64cf25903f8e67cb",
   "execution_count": 8
  },
  {
   "cell_type": "code",
   "outputs": [],
   "source": [
    "torch.save(model, './models/mnist_model.pt')"
   ],
   "metadata": {
    "collapsed": false,
    "ExecuteTime": {
     "end_time": "2024-02-19T17:02:10.867640Z",
     "start_time": "2024-02-19T17:02:10.857314Z"
    }
   },
   "id": "89ead714260a2a4d",
   "execution_count": 12
  },
  {
   "cell_type": "code",
   "outputs": [],
   "source": [],
   "metadata": {
    "collapsed": false
   },
   "id": "589c9d7b7dc98dfb"
  },
  {
   "cell_type": "markdown",
   "source": [
    "4. Modify CNN of Qn. 3 to reduce the number of parameters in the network. Draw a plot of \n",
    "percentage drop in parameters vs accuracy."
   ],
   "metadata": {
    "collapsed": false
   },
   "id": "4374758ca9a9b187"
  },
  {
   "cell_type": "code",
   "outputs": [],
   "source": [
    "class CNNClassifier(nn.Module):\n",
    "    def __init__(self,i):\n",
    "        super(CNNClassifier, self).__init__()\n",
    "        self.net = nn.Sequential(\n",
    "            nn.Conv2d(1, 2**i, kernel_size=3),\n",
    "            nn.ReLU(),\n",
    "            nn.MaxPool2d((2, 2), stride=2),\n",
    "            nn.Conv2d(2**i, 2**(i+1), kernel_size=3),\n",
    "            nn.ReLU(),\n",
    "            nn.MaxPool2d((2, 2), stride=2),\n",
    "            nn.Conv2d(2**(i+1), 2**i, kernel_size=3),\n",
    "            nn.ReLU(),\n",
    "            nn.MaxPool2d((2, 2), stride=2)\n",
    "        )\n",
    "        self.classification_head = nn.Linear(2**i, 10, bias=True)\n",
    "        \n",
    "    def forward(self, x):\n",
    "        features = self.net(x)\n",
    "        return self.classification_head(features.view(features.shape[0], -1))        "
   ],
   "metadata": {
    "collapsed": false,
    "ExecuteTime": {
     "end_time": "2024-02-19T13:55:10.978738Z",
     "start_time": "2024-02-19T13:55:10.955910Z"
    }
   },
   "id": "22277dd5c3acd181",
   "execution_count": 124
  },
  {
   "cell_type": "code",
   "outputs": [],
   "source": [
    "def train(model, epoch):\n",
    "    model.train()\n",
    "    for batch_idx, (data, target) in enumerate(train_loader):\n",
    "        data, target = data.to(DEVICE), target.to(DEVICE)\n",
    "        optimizer.zero_grad()\n",
    "        output = model(data)\n",
    "        loss = criterion(output, target)\n",
    "        loss.backward()\n",
    "        optimizer.step()"
   ],
   "metadata": {
    "collapsed": false,
    "ExecuteTime": {
     "end_time": "2024-02-19T13:55:10.982547Z",
     "start_time": "2024-02-19T13:55:10.967718Z"
    }
   },
   "id": "beefb5aba7b199a5",
   "execution_count": 125
  },
  {
   "cell_type": "code",
   "outputs": [],
   "source": [
    "def test(model):\n",
    "    model.eval()\n",
    "    correct = 0\n",
    "    with torch.no_grad():\n",
    "        for data, target in test_loader:\n",
    "            data, target = data.to(DEVICE), target.to(DEVICE)\n",
    "            output = model(data)\n",
    "            pred = output.data.max(1, keepdim=True)[1]\n",
    "            correct += pred.eq(target.data.view_as(pred)).sum()\n",
    "    return 100. * correct / len(test_loader.dataset)"
   ],
   "metadata": {
    "collapsed": false,
    "ExecuteTime": {
     "end_time": "2024-02-19T13:55:11.155279Z",
     "start_time": "2024-02-19T13:55:10.978817Z"
    }
   },
   "id": "48c08b043e112e2c",
   "execution_count": 126
  },
  {
   "cell_type": "code",
   "outputs": [
    {
     "data": {
      "text/plain": "<torch._C.Generator at 0x10492fb30>"
     },
     "execution_count": 127,
     "metadata": {},
     "output_type": "execute_result"
    }
   ],
   "source": [
    "EPOCHS = 5\n",
    "BATCH_SIZE_TRAIN = 64\n",
    "BATCH_SIZE_TEST = 1000\n",
    "LR = 0.01\n",
    "LOG_INTERVAL = 100\n",
    "RANDOM_SEED = 1\n",
    "DEVICE = torch.device(\"cuda\" if torch.cuda.is_available() else \"cpu\")\n",
    "\n",
    "torch.manual_seed(RANDOM_SEED)"
   ],
   "metadata": {
    "collapsed": false,
    "ExecuteTime": {
     "end_time": "2024-02-19T13:55:11.168798Z",
     "start_time": "2024-02-19T13:55:10.989198Z"
    }
   },
   "id": "9fc0fb15d0595f8a",
   "execution_count": 127
  },
  {
   "cell_type": "code",
   "outputs": [],
   "source": [
    "train_dataset = MNIST('data/', train=True, download=True, transform=ToTensor())\n",
    "test_dataset = MNIST('data/', train=False, download=True, transform=ToTensor())\n",
    "\n",
    "train_loader = DataLoader(train_dataset, batch_size=BATCH_SIZE_TRAIN, shuffle=True)\n",
    "test_loader = DataLoader(test_dataset, batch_size=BATCH_SIZE_TEST, shuffle=True)"
   ],
   "metadata": {
    "collapsed": false,
    "ExecuteTime": {
     "end_time": "2024-02-19T13:55:11.222849Z",
     "start_time": "2024-02-19T13:55:10.997965Z"
    }
   },
   "id": "b307b9f62de55f80",
   "execution_count": 128
  },
  {
   "cell_type": "code",
   "outputs": [
    {
     "name": "stdout",
     "output_type": "stream",
     "text": [
      "Model Number 1:\n",
      "\tTotal Params:  200\n",
      "\tTraining Epoch 1\n",
      "\tTraining Epoch 2\n",
      "\tTraining Epoch 3\n",
      "\tTraining Epoch 4\n",
      "\tTraining Epoch 5\n",
      "\tTesting Accuracy: 41.59000015258789\n",
      "\tFinished Training and Testing Model 1\n",
      "\n",
      "Model Number 2:\n",
      "\tTotal Params:  678\n",
      "\tTraining Epoch 1\n",
      "\tTraining Epoch 2\n",
      "\tTraining Epoch 3\n",
      "\tTraining Epoch 4\n",
      "\tTraining Epoch 5\n",
      "\tTesting Accuracy: 69.55999755859375\n",
      "\tFinished Training and Testing Model 2\n",
      "\n",
      "Model Number 3:\n",
      "\tTotal Params:  2498\n",
      "\tTraining Epoch 1\n",
      "\tTraining Epoch 2\n",
      "\tTraining Epoch 3\n",
      "\tTraining Epoch 4\n",
      "\tTraining Epoch 5\n",
      "\tTesting Accuracy: 89.12000274658203\n",
      "\tFinished Training and Testing Model 3\n",
      "\n",
      "Model Number 4:\n",
      "\tTotal Params:  9594\n",
      "\tTraining Epoch 1\n",
      "\tTraining Epoch 2\n",
      "\tTraining Epoch 3\n",
      "\tTraining Epoch 4\n",
      "\tTraining Epoch 5\n",
      "\tTesting Accuracy: 93.63999938964844\n",
      "\tFinished Training and Testing Model 4\n",
      "\n",
      "Model Number 5:\n",
      "\tTotal Params:  37610\n",
      "\tTraining Epoch 1\n",
      "\tTraining Epoch 2\n",
      "\tTraining Epoch 3\n",
      "\tTraining Epoch 4\n",
      "\tTraining Epoch 5\n",
      "\tTesting Accuracy: 95.1500015258789\n",
      "\tFinished Training and Testing Model 5\n",
      "\n",
      "Model Number 6:\n",
      "\tTotal Params:  148938\n",
      "\tTraining Epoch 1\n",
      "\tTraining Epoch 2\n",
      "\tTraining Epoch 3\n",
      "\tTraining Epoch 4\n",
      "\tTraining Epoch 5\n",
      "\tTesting Accuracy: 95.62999725341797\n",
      "\tFinished Training and Testing Model 6\n"
     ]
    }
   ],
   "source": [
    "n_params = []\n",
    "acc = []\n",
    "\n",
    "for i in range(1, 7):\n",
    "    print(f'Model Number {i}:')\n",
    "    model = CNNClassifier(i).to(DEVICE)\n",
    "    criterion = nn.CrossEntropyLoss()\n",
    "    optimizer = torch.optim.SGD(model.parameters(), lr=LR)\n",
    "    \n",
    "    total_params = 0\n",
    "    for param in model.parameters():\n",
    "        total_params += param.numel()\n",
    "    print('\\tTotal Params: ', total_params)\n",
    "    for epoch in range(1, EPOCHS + 1):\n",
    "        print(f'\\tTraining Epoch {epoch}')\n",
    "        train(model, epoch)\n",
    "\n",
    "    accuracy = test(model)\n",
    "    print(f'\\tTesting Accuracy: {accuracy}')\n",
    "    n_params.append(total_params)\n",
    "    acc.append(accuracy.item())\n",
    "    print(f'\\tFinished Training and Testing Model {i}\\n')"
   ],
   "metadata": {
    "collapsed": false,
    "ExecuteTime": {
     "end_time": "2024-02-19T14:06:42.288434Z",
     "start_time": "2024-02-19T13:55:11.069396Z"
    }
   },
   "id": "2c80ce05ae3d8649",
   "execution_count": 129
  },
  {
   "cell_type": "code",
   "outputs": [
    {
     "data": {
      "text/plain": "<Figure size 640x480 with 1 Axes>",
      "image/png": "[encoded data removed]"
     },
     "metadata": {},
     "output_type": "display_data"
    }
   ],
   "source": [
    "import matplotlib.pyplot as plt\n",
    "plt.plot(n_params, acc)\n",
    "plt.xlabel('Number of Parameters')\n",
    "plt.ylabel('Accuracy')\n",
    "plt.xscale('log')\n",
    "plt.show()"
   ],
   "metadata": {
    "collapsed": false,
    "ExecuteTime": {
     "end_time": "2024-02-19T14:06:42.630370Z",
     "start_time": "2024-02-19T14:06:42.314128Z"
    }
   },
   "id": "912406da004fda80",
   "execution_count": 130
  },
  {
   "cell_type": "code",
   "outputs": [],
   "source": [],
   "metadata": {
    "collapsed": false,
    "ExecuteTime": {
     "end_time": "2024-02-19T14:06:42.638990Z",
     "start_time": "2024-02-19T14:06:42.629974Z"
    }
   },
   "id": "e8abc44028565416",
   "execution_count": 130
  }
 ],
 "metadata": {
  "kernelspec": {
   "display_name": "Python 3",
   "language": "python",
   "name": "python3"
  },
  "language_info": {
   "codemirror_mode": {
    "name": "ipython",
    "version": 2
   },
   "file_extension": ".py",
   "mimetype": "text/x-python",
   "name": "python",
   "nbconvert_exporter": "python",
   "pygments_lexer": "ipython2",
   "version": "2.7.6"
  }
 },
 "nbformat": 4,
 "nbformat_minor": 5
}
