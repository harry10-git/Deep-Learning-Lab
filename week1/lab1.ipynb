{
 "cells": [
  {
   "cell_type": "code",
   "outputs": [
    {
     "data": {
      "text/plain": "'2.2.0'"
     },
     "execution_count": 4,
     "metadata": {},
     "output_type": "execute_result"
    }
   ],
   "source": [
    "import torch\n",
    "torch.__version__"
   ],
   "metadata": {
    "collapsed": false,
    "ExecuteTime": {
     "end_time": "2024-02-15T07:29:29.063191Z",
     "start_time": "2024-02-15T07:29:29.052882Z"
    }
   },
   "id": "43397950e08b2993",
   "execution_count": 4
  },
  {
   "cell_type": "code",
   "outputs": [
    {
     "data": {
      "text/plain": "tensor(7)"
     },
     "execution_count": 5,
     "metadata": {},
     "output_type": "execute_result"
    }
   ],
   "source": [
    "scalar = torch.tensor(7)\n",
    "scalar"
   ],
   "metadata": {
    "collapsed": false,
    "ExecuteTime": {
     "end_time": "2024-02-15T07:29:50.378244Z",
     "start_time": "2024-02-15T07:29:50.374427Z"
    }
   },
   "id": "264dd58c7b0195d9",
   "execution_count": 5
  },
  {
   "cell_type": "code",
   "outputs": [
    {
     "data": {
      "text/plain": "7"
     },
     "execution_count": 6,
     "metadata": {},
     "output_type": "execute_result"
    }
   ],
   "source": [
    "scalar.item()"
   ],
   "metadata": {
    "collapsed": false,
    "ExecuteTime": {
     "end_time": "2024-02-15T07:29:58.556639Z",
     "start_time": "2024-02-15T07:29:58.551585Z"
    }
   },
   "id": "6ff43343736134bd",
   "execution_count": 6
  },
  {
   "cell_type": "code",
   "outputs": [
    {
     "data": {
      "text/plain": "tensor([7, 7])"
     },
     "execution_count": 7,
     "metadata": {},
     "output_type": "execute_result"
    }
   ],
   "source": [
    "vector = torch.tensor([7,7])\n",
    "vector"
   ],
   "metadata": {
    "collapsed": false,
    "ExecuteTime": {
     "end_time": "2024-02-15T10:24:21.358060Z",
     "start_time": "2024-02-15T10:24:21.345701Z"
    }
   },
   "id": "74ce181176e3f34b",
   "execution_count": 7
  },
  {
   "cell_type": "code",
   "outputs": [
    {
     "data": {
      "text/plain": "tensor([[ 7,  8],\n        [ 9, 10]])"
     },
     "execution_count": 9,
     "metadata": {},
     "output_type": "execute_result"
    }
   ],
   "source": [
    "matrix = torch.tensor([[7,8], [9,10]])\n",
    "matrix"
   ],
   "metadata": {
    "collapsed": false,
    "ExecuteTime": {
     "end_time": "2024-02-15T10:25:35.217310Z",
     "start_time": "2024-02-15T10:25:35.199316Z"
    }
   },
   "id": "b4d5559b9eeb05fa",
   "execution_count": 9
  },
  {
   "cell_type": "code",
   "outputs": [
    {
     "data": {
      "text/plain": "torch.Size([2, 2])"
     },
     "execution_count": 10,
     "metadata": {},
     "output_type": "execute_result"
    }
   ],
   "source": [
    "matrix.shape"
   ],
   "metadata": {
    "collapsed": false,
    "ExecuteTime": {
     "end_time": "2024-02-15T10:25:42.984557Z",
     "start_time": "2024-02-15T10:25:42.979615Z"
    }
   },
   "id": "e8af19241c206b6f",
   "execution_count": 10
  },
  {
   "cell_type": "code",
   "outputs": [
    {
     "data": {
      "text/plain": "tensor([[[1, 2, 3],\n         [3, 6, 9],\n         [2, 4, 5]]])"
     },
     "execution_count": 11,
     "metadata": {},
     "output_type": "execute_result"
    }
   ],
   "source": [
    "TENSOR = torch.tensor([[[1, 2, 3],\n",
    " [3, 6, 9],\n",
    " [2, 4, 5]]])\n",
    "\n",
    "TENSOR"
   ],
   "metadata": {
    "collapsed": false,
    "ExecuteTime": {
     "end_time": "2024-02-15T10:26:22.842023Z",
     "start_time": "2024-02-15T10:26:22.836910Z"
    }
   },
   "id": "310f153212bdb5e3",
   "execution_count": 11
  },
  {
   "cell_type": "code",
   "outputs": [
    {
     "data": {
      "text/plain": "3"
     },
     "execution_count": 12,
     "metadata": {},
     "output_type": "execute_result"
    }
   ],
   "source": [
    "TENSOR.ndim"
   ],
   "metadata": {
    "collapsed": false,
    "ExecuteTime": {
     "end_time": "2024-02-15T10:26:32.012840Z",
     "start_time": "2024-02-15T10:26:32.008485Z"
    }
   },
   "id": "78788a59f4f4324",
   "execution_count": 12
  },
  {
   "cell_type": "code",
   "outputs": [
    {
     "data": {
      "text/plain": "tensor([[0.2228, 0.5951, 0.8504, 0.4656],\n        [0.0724, 0.1018, 0.5989, 0.5537],\n        [0.9926, 0.6990, 0.8652, 0.2096]])"
     },
     "execution_count": 14,
     "metadata": {},
     "output_type": "execute_result"
    }
   ],
   "source": [
    "# create a random tensor\n",
    "random_tensor = torch.rand(size=(3,4))\n",
    "random_tensor"
   ],
   "metadata": {
    "collapsed": false,
    "ExecuteTime": {
     "end_time": "2024-02-15T10:28:28.003982Z",
     "start_time": "2024-02-15T10:28:27.973416Z"
    }
   },
   "id": "808fd8b1555ccccd",
   "execution_count": 14
  },
  {
   "cell_type": "code",
   "outputs": [
    {
     "data": {
      "text/plain": "torch.float32"
     },
     "execution_count": 15,
     "metadata": {},
     "output_type": "execute_result"
    }
   ],
   "source": [
    "random_tensor.dtype"
   ],
   "metadata": {
    "collapsed": false,
    "ExecuteTime": {
     "end_time": "2024-02-15T10:28:34.994421Z",
     "start_time": "2024-02-15T10:28:34.990215Z"
    }
   },
   "id": "9556cf94f29e231a",
   "execution_count": 15
  },
  {
   "cell_type": "code",
   "outputs": [],
   "source": [
    "random_image_size_tensor = torch.rand(size=(224, 224, 3))"
   ],
   "metadata": {
    "collapsed": false,
    "ExecuteTime": {
     "end_time": "2024-02-15T10:29:54.942277Z",
     "start_time": "2024-02-15T10:29:54.938395Z"
    }
   },
   "id": "e6b85725530ee7d5",
   "execution_count": 16
  },
  {
   "cell_type": "code",
   "outputs": [
    {
     "data": {
      "text/plain": "tensor([[0., 0.],\n        [0., 0.],\n        [0., 0.]])"
     },
     "execution_count": 17,
     "metadata": {},
     "output_type": "execute_result"
    }
   ],
   "source": [
    "zeros = torch.zeros(size=(3,2))\n",
    "zeros"
   ],
   "metadata": {
    "collapsed": false,
    "ExecuteTime": {
     "end_time": "2024-02-15T10:30:19.358409Z",
     "start_time": "2024-02-15T10:30:19.351181Z"
    }
   },
   "id": "b6bc690efb94e28",
   "execution_count": 17
  },
  {
   "cell_type": "code",
   "outputs": [
    {
     "data": {
      "text/plain": "tensor([[1., 1.],\n        [1., 1.],\n        [1., 1.]])"
     },
     "execution_count": 19,
     "metadata": {},
     "output_type": "execute_result"
    }
   ],
   "source": [
    "ones = torch.ones(size=(3,2))\n",
    "ones"
   ],
   "metadata": {
    "collapsed": false,
    "ExecuteTime": {
     "end_time": "2024-02-15T10:30:38.097185Z",
     "start_time": "2024-02-15T10:30:38.093026Z"
    }
   },
   "id": "1e65cff7278f270e",
   "execution_count": 19
  },
  {
   "cell_type": "code",
   "outputs": [
    {
     "data": {
      "text/plain": "tensor([0, 1, 2, 3, 4, 5, 6, 7, 8, 9])"
     },
     "execution_count": 20,
     "metadata": {},
     "output_type": "execute_result"
    }
   ],
   "source": [
    "zero_to_ten = torch.arange(start=0, end=10, step=1)\n",
    "zero_to_ten"
   ],
   "metadata": {
    "collapsed": false,
    "ExecuteTime": {
     "end_time": "2024-02-15T10:31:50.091283Z",
     "start_time": "2024-02-15T10:31:50.081441Z"
    }
   },
   "id": "69f15891993882ef",
   "execution_count": 20
  },
  {
   "cell_type": "code",
   "outputs": [
    {
     "data": {
      "text/plain": "tensor([0, 0, 0, 0, 0, 0, 0, 0, 0, 0])"
     },
     "execution_count": 21,
     "metadata": {},
     "output_type": "execute_result"
    }
   ],
   "source": [
    "ten_zeros = torch.zeros_like(zero_to_ten)\n",
    "ten_zeros"
   ],
   "metadata": {
    "collapsed": false,
    "ExecuteTime": {
     "end_time": "2024-02-15T10:32:34.899379Z",
     "start_time": "2024-02-15T10:32:34.891527Z"
    }
   },
   "id": "64461226be592559",
   "execution_count": 21
  },
  {
   "cell_type": "code",
   "outputs": [
    {
     "data": {
      "text/plain": "device(type='cpu')"
     },
     "execution_count": 22,
     "metadata": {},
     "output_type": "execute_result"
    }
   ],
   "source": [
    "ten_zeros.device"
   ],
   "metadata": {
    "collapsed": false,
    "ExecuteTime": {
     "end_time": "2024-02-15T10:35:09.926035Z",
     "start_time": "2024-02-15T10:35:09.922132Z"
    }
   },
   "id": "651cb2924ce69692",
   "execution_count": 22
  },
  {
   "cell_type": "code",
   "outputs": [
    {
     "data": {
      "text/plain": "tensor([11, 12, 13])"
     },
     "execution_count": 23,
     "metadata": {},
     "output_type": "execute_result"
    }
   ],
   "source": [
    "tensor = torch.tensor([1, 2, 3])\n",
    "tensor + 10"
   ],
   "metadata": {
    "collapsed": false,
    "ExecuteTime": {
     "end_time": "2024-02-15T10:35:24.419838Z",
     "start_time": "2024-02-15T10:35:24.403805Z"
    }
   },
   "id": "a6d07d12ec360f15",
   "execution_count": 23
  },
  {
   "cell_type": "code",
   "outputs": [
    {
     "data": {
      "text/plain": "tensor([10, 20, 30])"
     },
     "execution_count": 24,
     "metadata": {},
     "output_type": "execute_result"
    }
   ],
   "source": [
    "tensor *10"
   ],
   "metadata": {
    "collapsed": false,
    "ExecuteTime": {
     "end_time": "2024-02-15T10:35:34.622780Z",
     "start_time": "2024-02-15T10:35:34.617784Z"
    }
   },
   "id": "a0610de26e9fcba3",
   "execution_count": 24
  },
  {
   "cell_type": "code",
   "outputs": [
    {
     "data": {
      "text/plain": "tensor([1, 4, 9])"
     },
     "execution_count": 25,
     "metadata": {},
     "output_type": "execute_result"
    }
   ],
   "source": [
    "t1 = torch.tensor([1,2,3])\n",
    "t2 = torch.tensor([1,2,3])\n",
    "t1 * t2"
   ],
   "metadata": {
    "collapsed": false,
    "ExecuteTime": {
     "end_time": "2024-02-15T10:37:17.179759Z",
     "start_time": "2024-02-15T10:37:17.177383Z"
    }
   },
   "id": "96b9d78394e42894",
   "execution_count": 25
  },
  {
   "cell_type": "code",
   "outputs": [
    {
     "data": {
      "text/plain": "14"
     },
     "execution_count": 28,
     "metadata": {},
     "output_type": "execute_result"
    }
   ],
   "source": [
    "(t1 @ t2).item()"
   ],
   "metadata": {
    "collapsed": false,
    "ExecuteTime": {
     "end_time": "2024-02-15T10:38:17.920898Z",
     "start_time": "2024-02-15T10:38:17.916918Z"
    }
   },
   "id": "d095a19263b20422",
   "execution_count": 28
  },
  {
   "cell_type": "code",
   "outputs": [
    {
     "data": {
      "text/plain": "tensor(14)"
     },
     "execution_count": 29,
     "metadata": {},
     "output_type": "execute_result"
    }
   ],
   "source": [
    "torch.matmul(t1, t2)"
   ],
   "metadata": {
    "collapsed": false,
    "ExecuteTime": {
     "end_time": "2024-02-15T10:38:46.940001Z",
     "start_time": "2024-02-15T10:38:46.934420Z"
    }
   },
   "id": "a2e2dac9d8e163a0",
   "execution_count": 29
  },
  {
   "cell_type": "markdown",
   "source": [
    "## Lab Exercise:"
   ],
   "metadata": {
    "collapsed": false
   },
   "id": "bdf8a1fe594a016e"
  },
  {
   "cell_type": "markdown",
   "source": [
    "1. Illustrate the functions for Reshaping, viewing, stacking, squeezing and unsqueezing of tensors"
   ],
   "metadata": {
    "collapsed": false
   },
   "id": "85c83d27c1fdb2c1"
  },
  {
   "cell_type": "code",
   "outputs": [
    {
     "name": "stdout",
     "output_type": "stream",
     "text": [
      "tensor([1, 2, 3, 4, 5, 6, 7, 8, 9])\n",
      "torch.Size([9])\n",
      "torch.Size([3, 3])\n",
      "tensor([[1, 2, 3],\n",
      "        [4, 5, 6],\n",
      "        [7, 8, 9]])\n"
     ]
    }
   ],
   "source": [
    "a = torch.tensor([1,2,3,4,5,6,7,8,9])\n",
    "print(a)\n",
    "print(a.shape)\n",
    "a = a.reshape([3,3])\n",
    "print(a.shape)\n",
    "print(a)"
   ],
   "metadata": {
    "collapsed": false,
    "ExecuteTime": {
     "end_time": "2024-02-15T10:45:18.775036Z",
     "start_time": "2024-02-15T10:45:18.766014Z"
    }
   },
   "id": "54b9663f324b8d34",
   "execution_count": 38
  },
  {
   "cell_type": "code",
   "outputs": [
    {
     "name": "stdout",
     "output_type": "stream",
     "text": [
      "tensor([[10., 20.],\n",
      "        [30., 40.],\n",
      "        [50.,  1.],\n",
      "        [ 2.,  3.],\n",
      "        [ 4.,  5.]])\n"
     ]
    }
   ],
   "source": [
    "b = torch.FloatTensor([10, 20, 30, 40, 50, 1, 2, 3, 4, 5])\n",
    "print(b.view(5, 2))"
   ],
   "metadata": {
    "collapsed": false,
    "ExecuteTime": {
     "end_time": "2024-02-15T10:47:04.040725Z",
     "start_time": "2024-02-15T10:47:04.036322Z"
    }
   },
   "id": "4c8b8dc45c0e5830",
   "execution_count": 44
  },
  {
   "cell_type": "code",
   "outputs": [
    {
     "data": {
      "text/plain": "tensor([[ 1.,  3.,  6., 10.],\n        [ 2.,  7.,  9., 13.]])"
     },
     "execution_count": 45,
     "metadata": {},
     "output_type": "execute_result"
    }
   ],
   "source": [
    "x = torch.tensor([1.,3.,6.,10.]) \n",
    "y = torch.tensor([2.,7.,9.,13.])\n",
    "t = torch.stack(tensors=(x,y))\n",
    "t"
   ],
   "metadata": {
    "collapsed": false,
    "ExecuteTime": {
     "end_time": "2024-02-15T10:59:35.614261Z",
     "start_time": "2024-02-15T10:59:35.588160Z"
    }
   },
   "id": "4bcf894f7b67965f",
   "execution_count": 45
  },
  {
   "cell_type": "code",
   "outputs": [
    {
     "name": "stdout",
     "output_type": "stream",
     "text": [
      "tensor([[[[[-0.9065,  0.4270, -1.0608, -0.8369]],\n",
      "\n",
      "          [[ 0.0568, -0.1589, -0.0296,  2.1912]]]],\n",
      "\n",
      "\n",
      "\n",
      "        [[[[ 0.4380, -0.9097,  0.7353, -0.7700]],\n",
      "\n",
      "          [[ 0.3918,  0.9068, -0.2501,  0.4130]]]],\n",
      "\n",
      "\n",
      "\n",
      "        [[[[ 0.7608, -0.6542, -1.9473, -1.0219]],\n",
      "\n",
      "          [[ 0.6869,  0.1994, -1.6300,  0.7268]]]]])\n",
      "output:\n",
      "tensor([[[-0.9065,  0.4270, -1.0608, -0.8369],\n",
      "         [ 0.0568, -0.1589, -0.0296,  2.1912]],\n",
      "\n",
      "        [[ 0.4380, -0.9097,  0.7353, -0.7700],\n",
      "         [ 0.3918,  0.9068, -0.2501,  0.4130]],\n",
      "\n",
      "        [[ 0.7608, -0.6542, -1.9473, -1.0219],\n",
      "         [ 0.6869,  0.1994, -1.6300,  0.7268]]])\n"
     ]
    }
   ],
   "source": [
    "input = torch.randn(3,1,2,1,4)\n",
    "print(input)\n",
    "\n",
    "output = torch.squeeze(input)\n",
    "print('output:')\n",
    "print(output)"
   ],
   "metadata": {
    "collapsed": false,
    "ExecuteTime": {
     "end_time": "2024-02-15T11:01:19.590852Z",
     "start_time": "2024-02-15T11:01:19.581126Z"
    }
   },
   "id": "d3f1f13095aace4b",
   "execution_count": 47
  },
  {
   "cell_type": "code",
   "outputs": [
    {
     "name": "stdout",
     "output_type": "stream",
     "text": [
      "tensor([[0.],\n",
      "        [1.],\n",
      "        [2.],\n",
      "        [3.],\n",
      "        [4.],\n",
      "        [5.],\n",
      "        [6.],\n",
      "        [7.]])\n"
     ]
    }
   ],
   "source": [
    "input = torch.arange(8, dtype=torch.float)\n",
    "output = torch.unsqueeze(input, dim=1)\n",
    "print(output)"
   ],
   "metadata": {
    "collapsed": false,
    "ExecuteTime": {
     "end_time": "2024-02-15T11:13:55.983877Z",
     "start_time": "2024-02-15T11:13:55.979727Z"
    }
   },
   "id": "10ccb06fb59155eb",
   "execution_count": 50
  },
  {
   "cell_type": "markdown",
   "source": [
    "2) Illustrate the use of torch.permute()."
   ],
   "metadata": {
    "collapsed": false
   },
   "id": "474cd4682bba2a93"
  },
  {
   "cell_type": "code",
   "outputs": [
    {
     "name": "stdout",
     "output_type": "stream",
     "text": [
      "torch.Size([3, 5, 2])\n",
      "torch.Size([2, 3, 5])\n"
     ]
    }
   ],
   "source": [
    "input_var = torch.randn(3, 5, 2)\n",
    "print(input_var.size())\n",
    "input_var = input_var.permute(2,0,1)\n",
    "print(input_var.size())"
   ],
   "metadata": {
    "collapsed": false,
    "ExecuteTime": {
     "end_time": "2024-02-15T11:17:52.388943Z",
     "start_time": "2024-02-15T11:17:52.381713Z"
    }
   },
   "id": "7e2f489f667825ac",
   "execution_count": 52
  },
  {
   "cell_type": "code",
   "outputs": [],
   "source": [
    "# Perform a matrix multiplication"
   ],
   "metadata": {
    "collapsed": false,
    "ExecuteTime": {
     "end_time": "2024-02-15T18:24:17.553565Z",
     "start_time": "2024-02-15T18:24:17.544311Z"
    }
   },
   "id": "b2d21ddbd61d4cba",
   "execution_count": 56
  },
  {
   "cell_type": "code",
   "outputs": [
    {
     "data": {
      "text/plain": "tensor([[ 4, 10, 13],\n        [11, 25, 22]])"
     },
     "execution_count": 57,
     "metadata": {},
     "output_type": "execute_result"
    }
   ],
   "source": [
    "mat_1 = torch.tensor([[1, 2], \n",
    "                      [4, 3]]) \n",
    "  \n",
    "mat_2 = torch.tensor([[2, 4, 1], \n",
    "                      [1, 3, 6]]) \n",
    "  \n",
    "torch.mm(mat_1, mat_2, out=None) "
   ],
   "metadata": {
    "collapsed": false,
    "ExecuteTime": {
     "end_time": "2024-02-15T18:24:18.951822Z",
     "start_time": "2024-02-15T18:24:18.942583Z"
    }
   },
   "id": "c38aa7a3960f4e0c",
   "execution_count": 57
  },
  {
   "cell_type": "code",
   "outputs": [
    {
     "name": "stdout",
     "output_type": "stream",
     "text": [
      "autograd: 0.10499356687068939\n",
      "manual: 0.1049935854035065\n"
     ]
    }
   ],
   "source": [
    "import numpy as np\n",
    "def grad_sigmoid_manual(x):\n",
    "    a = -x\n",
    "    b = np.exp(a)\n",
    "    c = 1+b\n",
    "    s = 1.0/c\n",
    "    \n",
    "    dsdc = (-1.0 / (c**2))\n",
    "    dsdb = dsdc * 1\n",
    "    dsda = dsdb * np.exp(a)\n",
    "    dsdx = dsda * (-1)\n",
    "    return dsdx\n",
    "\n",
    "def sigmoid(x):\n",
    "    y = 1.0 / (1.0 + torch.exp(-x))\n",
    "    return y\n",
    "\n",
    "input_x = 2.0\n",
    "x = torch.tensor(input_x).requires_grad_(True)\n",
    "y = sigmoid(x)\n",
    "y.backward()\n",
    "print('autograd:', x.grad.item())\n",
    "print('manual:', grad_sigmoid_manual(input_x))\n",
    "    "
   ],
   "metadata": {
    "collapsed": false,
    "ExecuteTime": {
     "end_time": "2024-02-15T18:30:19.293156Z",
     "start_time": "2024-02-15T18:30:19.210144Z"
    }
   },
   "id": "feb0ebd161ad2971",
   "execution_count": 58
  },
  {
   "cell_type": "markdown",
   "source": [
    "1. Draw Computation Graph and work out the gradient dz/da by following the path \n",
    "back from z to a and compare the result with the analytical gradient. \n",
    "x = 2*a + 3*b\n",
    "y = 5*a*a + 3*b*b*b\n",
    "z = 2*x + 3*y"
   ],
   "metadata": {
    "collapsed": false
   },
   "id": "d623dad482fccf5"
  },
  {
   "cell_type": "code",
   "outputs": [
    {
     "name": "stdout",
     "output_type": "stream",
     "text": [
      "tensor(64.) tensor(114.)\n"
     ]
    }
   ],
   "source": [
    "a = torch.tensor(2.0, requires_grad=True)\n",
    "b = torch.tensor(2.0, requires_grad=True)\n",
    "\n",
    "x = 2*a + 3*b\n",
    "y = 5*a*a + 3*b*b*b\n",
    "z = 2*x + 3*y\n",
    "\n",
    "z.backward()\n",
    "print(a.grad, b.grad)\n",
    "\n",
    "def manual(x):\n",
    "    x = 2*a + 3*b\n",
    "    y = 5*a*a + 3*b*b*b"
   ],
   "metadata": {
    "collapsed": false,
    "ExecuteTime": {
     "end_time": "2024-02-15T18:55:24.021787Z",
     "start_time": "2024-02-15T18:55:23.971952Z"
    }
   },
   "id": "fbb0bd70b224abfe",
   "execution_count": 59
  },
  {
   "cell_type": "code",
   "outputs": [],
   "source": [],
   "metadata": {
    "collapsed": false
   },
   "id": "9029f4669170d6a0"
  }
 ],
 "metadata": {
  "kernelspec": {
   "display_name": "Python 3",
   "language": "python",
   "name": "python3"
  },
  "language_info": {
   "codemirror_mode": {
    "name": "ipython",
    "version": 2
   },
   "file_extension": ".py",
   "mimetype": "text/x-python",
   "name": "python",
   "nbconvert_exporter": "python",
   "pygments_lexer": "ipython2",
   "version": "2.7.6"
  }
 },
 "nbformat": 4,
 "nbformat_minor": 5
}
