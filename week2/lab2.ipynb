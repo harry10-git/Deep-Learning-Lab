{
 "cells": [
  {
   "cell_type": "markdown",
   "source": [
    "## Computation Graphs"
   ],
   "metadata": {
    "collapsed": false
   },
   "id": "c30459801f26e23b"
  },
  {
   "cell_type": "code",
   "outputs": [],
   "source": [
    "import torch"
   ],
   "metadata": {
    "collapsed": false,
    "ExecuteTime": {
     "end_time": "2024-02-15T11:37:24.154956Z",
     "start_time": "2024-02-15T11:37:23.215570Z"
    }
   },
   "id": "8370922626f74e1c",
   "execution_count": 1
  },
  {
   "cell_type": "code",
   "outputs": [
    {
     "name": "stdout",
     "output_type": "stream",
     "text": [
      "tensor([0.7335, 0.4251, 0.3905], requires_grad=True)\n"
     ]
    }
   ],
   "source": [
    "x = torch.rand(3,requires_grad=True)\n",
    "print(x)"
   ],
   "metadata": {
    "collapsed": false,
    "ExecuteTime": {
     "end_time": "2024-02-15T11:37:33.515271Z",
     "start_time": "2024-02-15T11:37:33.507040Z"
    }
   },
   "id": "99f8ffbde80df25f",
   "execution_count": 3
  },
  {
   "cell_type": "code",
   "outputs": [
    {
     "name": "stdout",
     "output_type": "stream",
     "text": [
      "x:  tensor(3.5000, requires_grad=True)\n",
      "y:  tensor(12.2500, grad_fn=<MulBackward0>)\n",
      "z:  tensor(27.5000, grad_fn=<AddBackward0>)\n",
      "Working out gradients dz/dx\n",
      "x.grad:  tensor(14.)\n"
     ]
    }
   ],
   "source": [
    "x = torch.tensor(3.5,requires_grad=True)\n",
    "y= x*x\n",
    "z = 2*y + 3\n",
    "print('x: ',x)\n",
    "print('y: ',y)\n",
    "print('z: ',z)\n",
    "# work out gradients\n",
    "z.backward()\n",
    "print(\"Working out gradients dz/dx\")\n",
    "# what is gradient at x = 3.5\n",
    "print('x.grad: ',x.grad)"
   ],
   "metadata": {
    "collapsed": false,
    "ExecuteTime": {
     "end_time": "2024-02-15T12:04:53.759490Z",
     "start_time": "2024-02-15T12:04:53.751377Z"
    }
   },
   "id": "b42ef56654e95d52",
   "execution_count": 12
  },
  {
   "cell_type": "code",
   "outputs": [
    {
     "name": "stdout",
     "output_type": "stream",
     "text": [
      "Analytical f(x):  tensor([-2.], grad_fn=<MulBackward0>)\n",
      "Pytorch grad:  tensor([-2.])\n"
     ]
    }
   ],
   "source": [
    "def f(x):\n",
    "    return (x-2)**2\n",
    "def fp(x):\n",
    "    return 2*(x-2)\n",
    "\n",
    "x = torch.tensor([1.0], requires_grad=True)\n",
    "y = f(x)\n",
    "y.backward()\n",
    "\n",
    "print('Analytical f(x): ', fp(x))\n",
    "print('Pytorch grad: ', x.grad)"
   ],
   "metadata": {
    "collapsed": false,
    "ExecuteTime": {
     "end_time": "2024-02-15T18:06:19.893004Z",
     "start_time": "2024-02-15T18:06:19.888873Z"
    }
   },
   "id": "58b39f99e820c4e6",
   "execution_count": 15
  },
  {
   "cell_type": "code",
   "outputs": [
    {
     "name": "stdout",
     "output_type": "stream",
     "text": [
      "tensor([9.], grad_fn=<AddBackward0>)\n",
      "PyTorch grad:  tensor([4.])\n",
      "Analytical gradient: tensor([4.])\n"
     ]
    }
   ],
   "source": [
    "x = torch.tensor([2.0])\n",
    "x.requires_grad_(True)\n",
    "y = x**2 + 5\n",
    "print(y)\n",
    "y.backward()\n",
    "print('PyTorch grad: ', x.grad)\n",
    "with torch.no_grad(): #this is to only use the tensor value without its gradient information\n",
    " dy_dx = 2*x #analytical gradient\n",
    "print('Analytical gradient:',dy_dx)"
   ],
   "metadata": {
    "collapsed": false,
    "ExecuteTime": {
     "end_time": "2024-02-15T18:15:39.914901Z",
     "start_time": "2024-02-15T18:15:39.909263Z"
    }
   },
   "id": "c4119e0690c76694",
   "execution_count": 27
  },
  {
   "cell_type": "code",
   "outputs": [],
   "source": [
    "import numpy as np\n",
    "def grad_sigmoid_manual(x):\n",
    "    a = -x\n",
    "    b = np.exp(a)\n",
    "    c = 1 + b\n",
    "    s = 1.0/c\n",
    "    \n",
    "    dsdc = (-1.0/ (c**2))\n",
    "    dsdb = dsdc * 1\n",
    "    dsda = dsdb * np.exp(a)\n",
    "    dsdx = dsda * (-1)\n",
    "    return dsdx\n",
    "def sigmoid(x):\n",
    "    y = 1.0/(1+np.exp(-x))\n",
    "    return y"
   ],
   "metadata": {
    "collapsed": false
   },
   "id": "c4572cdd109e90ac"
  }
 ],
 "metadata": {
  "kernelspec": {
   "display_name": "Python 3",
   "language": "python",
   "name": "python3"
  },
  "language_info": {
   "codemirror_mode": {
    "name": "ipython",
    "version": 2
   },
   "file_extension": ".py",
   "mimetype": "text/x-python",
   "name": "python",
   "nbconvert_exporter": "python",
   "pygments_lexer": "ipython2",
   "version": "2.7.6"
  }
 },
 "nbformat": 4,
 "nbformat_minor": 5
}
