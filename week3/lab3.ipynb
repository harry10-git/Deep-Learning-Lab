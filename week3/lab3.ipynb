{
 "cells": [
  {
   "cell_type": "code",
   "execution_count": 87,
   "id": "initial_id",
   "metadata": {
    "collapsed": true,
    "ExecuteTime": {
     "end_time": "2024-02-18T09:16:19.653974Z",
     "start_time": "2024-02-18T09:16:19.631223Z"
    }
   },
   "outputs": [],
   "source": [
    "import torch\n",
    "import matplotlib.pyplot as plt"
   ]
  },
  {
   "cell_type": "markdown",
   "source": [
    "## Linear Regression"
   ],
   "metadata": {
    "collapsed": false
   },
   "id": "dffdb9a1e7df7724"
  },
  {
   "cell_type": "code",
   "outputs": [
    {
     "name": "stdout",
     "output_type": "stream",
     "text": [
      "b:  tensor([0.8463], requires_grad=True)\n",
      "w:  tensor([0.2501], requires_grad=True)\n"
     ]
    }
   ],
   "source": [
    "x = torch.tensor([12.4,14.3,14.5,14.9,16.1,16.9,16.5,15.4,17.0,17.9,18.8,20.3,22.4,19.4,15.5,16.7,17.3,18.4,19.2,17.4,19.5,19.7,21.2])\n",
    "y = torch.tensor([11.2,12.5,12.7,13.1,14.1,14.8,14.4,13.4,14.9,15.6,16.4,17.7,19.6,16.9,14.0,14.6,15.1,16.1,16.8,15.2,17.0,17.2,18.6])\n",
    "\n",
    "b = torch.rand([1], requires_grad= True)\n",
    "w = torch.rand([1], requires_grad= True)\n",
    "print('b: ', b)\n",
    "print('w: ', w)"
   ],
   "metadata": {
    "collapsed": false,
    "ExecuteTime": {
     "end_time": "2024-02-18T09:16:19.663312Z",
     "start_time": "2024-02-18T09:16:19.656877Z"
    }
   },
   "id": "b28805a28680523d",
   "execution_count": 88
  },
  {
   "cell_type": "code",
   "outputs": [
    {
     "name": "stdout",
     "output_type": "stream",
     "text": [
      "w = tensor([0.6091], requires_grad=True), b = tensor([0.8665], requires_grad=True), loss =103.75968933105469\n",
      "w = tensor([0.7444], requires_grad=True), b = tensor([0.8741], requires_grad=True), loss =14.746423721313477\n",
      "w = tensor([0.7953], requires_grad=True), b = tensor([0.8770], requires_grad=True), loss =2.1070754528045654\n",
      "w = tensor([0.8146], requires_grad=True), b = tensor([0.8780], requires_grad=True), loss =0.3123640716075897\n",
      "w = tensor([0.8218], requires_grad=True), b = tensor([0.8784], requires_grad=True), loss =0.0575251579284668\n",
      "w = tensor([0.8245], requires_grad=True), b = tensor([0.8785], requires_grad=True), loss =0.02133917063474655\n",
      "w = tensor([0.8256], requires_grad=True), b = tensor([0.8786], requires_grad=True), loss =0.016200756654143333\n",
      "w = tensor([0.8259], requires_grad=True), b = tensor([0.8786], requires_grad=True), loss =0.01547095738351345\n",
      "w = tensor([0.8261], requires_grad=True), b = tensor([0.8786], requires_grad=True), loss =0.015367087908089161\n",
      "w = tensor([0.8261], requires_grad=True), b = tensor([0.8786], requires_grad=True), loss =0.015352166257798672\n",
      "w = tensor([0.8262], requires_grad=True), b = tensor([0.8786], requires_grad=True), loss =0.015349666588008404\n",
      "w = tensor([0.8262], requires_grad=True), b = tensor([0.8785], requires_grad=True), loss =0.015349222347140312\n",
      "w = tensor([0.8262], requires_grad=True), b = tensor([0.8785], requires_grad=True), loss =0.015348905697464943\n",
      "w = tensor([0.8262], requires_grad=True), b = tensor([0.8785], requires_grad=True), loss =0.015348563902080059\n",
      "w = tensor([0.8262], requires_grad=True), b = tensor([0.8785], requires_grad=True), loss =0.01534844096750021\n",
      "w = tensor([0.8262], requires_grad=True), b = tensor([0.8785], requires_grad=True), loss =0.015348105691373348\n",
      "w = tensor([0.8262], requires_grad=True), b = tensor([0.8785], requires_grad=True), loss =0.015347839333117008\n",
      "w = tensor([0.8262], requires_grad=True), b = tensor([0.8785], requires_grad=True), loss =0.015347706153988838\n",
      "w = tensor([0.8262], requires_grad=True), b = tensor([0.8784], requires_grad=True), loss =0.015347388572990894\n",
      "w = tensor([0.8262], requires_grad=True), b = tensor([0.8784], requires_grad=True), loss =0.015347099862992764\n",
      "w = tensor([0.8262], requires_grad=True), b = tensor([0.8784], requires_grad=True), loss =0.015346908941864967\n",
      "w = tensor([0.8262], requires_grad=True), b = tensor([0.8784], requires_grad=True), loss =0.015346630476415157\n",
      "w = tensor([0.8262], requires_grad=True), b = tensor([0.8784], requires_grad=True), loss =0.015346349216997623\n",
      "w = tensor([0.8262], requires_grad=True), b = tensor([0.8784], requires_grad=True), loss =0.015346186235547066\n",
      "w = tensor([0.8262], requires_grad=True), b = tensor([0.8783], requires_grad=True), loss =0.015345844440162182\n",
      "w = tensor([0.8262], requires_grad=True), b = tensor([0.8783], requires_grad=True), loss =0.01534563023597002\n",
      "w = tensor([0.8262], requires_grad=True), b = tensor([0.8783], requires_grad=True), loss =0.01534528099000454\n",
      "w = tensor([0.8262], requires_grad=True), b = tensor([0.8783], requires_grad=True), loss =0.015345106832683086\n",
      "w = tensor([0.8262], requires_grad=True), b = tensor([0.8783], requires_grad=True), loss =0.015344825573265553\n",
      "w = tensor([0.8262], requires_grad=True), b = tensor([0.8783], requires_grad=True), loss =0.015344559215009212\n",
      "w = tensor([0.8262], requires_grad=True), b = tensor([0.8782], requires_grad=True), loss =0.01534440740942955\n",
      "w = tensor([0.8262], requires_grad=True), b = tensor([0.8782], requires_grad=True), loss =0.01534411683678627\n",
      "w = tensor([0.8262], requires_grad=True), b = tensor([0.8782], requires_grad=True), loss =0.015343805775046349\n",
      "w = tensor([0.8262], requires_grad=True), b = tensor([0.8782], requires_grad=True), loss =0.015343660488724709\n",
      "w = tensor([0.8262], requires_grad=True), b = tensor([0.8782], requires_grad=True), loss =0.01534334383904934\n",
      "w = tensor([0.8262], requires_grad=True), b = tensor([0.8782], requires_grad=True), loss =0.015343020670115948\n",
      "w = tensor([0.8262], requires_grad=True), b = tensor([0.8781], requires_grad=True), loss =0.015342862345278263\n",
      "w = tensor([0.8262], requires_grad=True), b = tensor([0.8781], requires_grad=True), loss =0.01534257922321558\n",
      "w = tensor([0.8262], requires_grad=True), b = tensor([0.8781], requires_grad=True), loss =0.015342325903475285\n",
      "w = tensor([0.8262], requires_grad=True), b = tensor([0.8781], requires_grad=True), loss =0.015342100523412228\n",
      "w = tensor([0.8262], requires_grad=True), b = tensor([0.8781], requires_grad=True), loss =0.015341823920607567\n",
      "w = tensor([0.8262], requires_grad=True), b = tensor([0.8781], requires_grad=True), loss =0.015341573394834995\n",
      "w = tensor([0.8262], requires_grad=True), b = tensor([0.8781], requires_grad=True), loss =0.015341294929385185\n",
      "w = tensor([0.8262], requires_grad=True), b = tensor([0.8780], requires_grad=True), loss =0.015341010875999928\n",
      "w = tensor([0.8262], requires_grad=True), b = tensor([0.8780], requires_grad=True), loss =0.015340831130743027\n",
      "w = tensor([0.8262], requires_grad=True), b = tensor([0.8780], requires_grad=True), loss =0.015340490266680717\n",
      "w = tensor([0.8262], requires_grad=True), b = tensor([0.8780], requires_grad=True), loss =0.015340380370616913\n",
      "w = tensor([0.8262], requires_grad=True), b = tensor([0.8780], requires_grad=True), loss =0.015340040437877178\n",
      "w = tensor([0.8262], requires_grad=True), b = tensor([0.8780], requires_grad=True), loss =0.015339754521846771\n",
      "w = tensor([0.8262], requires_grad=True), b = tensor([0.8779], requires_grad=True), loss =0.015339572913944721\n",
      "w = tensor([0.8262], requires_grad=True), b = tensor([0.8779], requires_grad=True), loss =0.01533929817378521\n",
      "w = tensor([0.8262], requires_grad=True), b = tensor([0.8779], requires_grad=True), loss =0.015339010395109653\n",
      "w = tensor([0.8262], requires_grad=True), b = tensor([0.8779], requires_grad=True), loss =0.01533883810043335\n",
      "w = tensor([0.8262], requires_grad=True), b = tensor([0.8779], requires_grad=True), loss =0.01533853355795145\n",
      "w = tensor([0.8262], requires_grad=True), b = tensor([0.8779], requires_grad=True), loss =0.015338298864662647\n",
      "w = tensor([0.8262], requires_grad=True), b = tensor([0.8778], requires_grad=True), loss =0.015338080935180187\n",
      "w = tensor([0.8262], requires_grad=True), b = tensor([0.8778], requires_grad=True), loss =0.015337779186666012\n",
      "w = tensor([0.8262], requires_grad=True), b = tensor([0.8778], requires_grad=True), loss =0.015337557531893253\n",
      "w = tensor([0.8262], requires_grad=True), b = tensor([0.8778], requires_grad=True), loss =0.015337245538830757\n",
      "w = tensor([0.8262], requires_grad=True), b = tensor([0.8778], requires_grad=True), loss =0.015337012708187103\n",
      "w = tensor([0.8262], requires_grad=True), b = tensor([0.8778], requires_grad=True), loss =0.015336772426962852\n",
      "w = tensor([0.8262], requires_grad=True), b = tensor([0.8778], requires_grad=True), loss =0.015336479991674423\n",
      "w = tensor([0.8262], requires_grad=True), b = tensor([0.8777], requires_grad=True), loss =0.015336315147578716\n",
      "w = tensor([0.8262], requires_grad=True), b = tensor([0.8777], requires_grad=True), loss =0.015336024574935436\n",
      "w = tensor([0.8262], requires_grad=True), b = tensor([0.8777], requires_grad=True), loss =0.01533572655171156\n",
      "w = tensor([0.8262], requires_grad=True), b = tensor([0.8777], requires_grad=True), loss =0.015335533767938614\n",
      "w = tensor([0.8262], requires_grad=True), b = tensor([0.8777], requires_grad=True), loss =0.01533525437116623\n",
      "w = tensor([0.8262], requires_grad=True), b = tensor([0.8777], requires_grad=True), loss =0.01533493772149086\n",
      "w = tensor([0.8262], requires_grad=True), b = tensor([0.8776], requires_grad=True), loss =0.0153347784653306\n",
      "w = tensor([0.8262], requires_grad=True), b = tensor([0.8776], requires_grad=True), loss =0.015334480442106724\n",
      "w = tensor([0.8262], requires_grad=True), b = tensor([0.8776], requires_grad=True), loss =0.01533422525972128\n",
      "w = tensor([0.8262], requires_grad=True), b = tensor([0.8776], requires_grad=True), loss =0.015334019437432289\n",
      "w = tensor([0.8262], requires_grad=True), b = tensor([0.8776], requires_grad=True), loss =0.015333742834627628\n",
      "w = tensor([0.8262], requires_grad=True), b = tensor([0.8776], requires_grad=True), loss =0.015333515591919422\n",
      "w = tensor([0.8262], requires_grad=True), b = tensor([0.8775], requires_grad=True), loss =0.015333202667534351\n",
      "w = tensor([0.8262], requires_grad=True), b = tensor([0.8775], requires_grad=True), loss =0.015332973562180996\n",
      "w = tensor([0.8262], requires_grad=True), b = tensor([0.8775], requires_grad=True), loss =0.015332751907408237\n",
      "w = tensor([0.8262], requires_grad=True), b = tensor([0.8775], requires_grad=True), loss =0.015332433395087719\n",
      "w = tensor([0.8262], requires_grad=True), b = tensor([0.8775], requires_grad=True), loss =0.015332297421991825\n",
      "w = tensor([0.8262], requires_grad=True), b = tensor([0.8775], requires_grad=True), loss =0.015331987291574478\n",
      "w = tensor([0.8262], requires_grad=True), b = tensor([0.8775], requires_grad=True), loss =0.015331679955124855\n",
      "w = tensor([0.8262], requires_grad=True), b = tensor([0.8774], requires_grad=True), loss =0.015331530012190342\n",
      "w = tensor([0.8262], requires_grad=True), b = tensor([0.8774], requires_grad=True), loss =0.015331191942095757\n",
      "w = tensor([0.8262], requires_grad=True), b = tensor([0.8774], requires_grad=True), loss =0.01533093024045229\n",
      "w = tensor([0.8262], requires_grad=True), b = tensor([0.8774], requires_grad=True), loss =0.0153307244181633\n",
      "w = tensor([0.8262], requires_grad=True), b = tensor([0.8774], requires_grad=True), loss =0.01533045619726181\n",
      "w = tensor([0.8262], requires_grad=True), b = tensor([0.8774], requires_grad=True), loss =0.015330177731812\n",
      "w = tensor([0.8262], requires_grad=True), b = tensor([0.8773], requires_grad=True), loss =0.015330038964748383\n",
      "w = tensor([0.8262], requires_grad=True), b = tensor([0.8773], requires_grad=True), loss =0.015329676680266857\n",
      "w = tensor([0.8262], requires_grad=True), b = tensor([0.8773], requires_grad=True), loss =0.015329492278397083\n",
      "w = tensor([0.8262], requires_grad=True), b = tensor([0.8773], requires_grad=True), loss =0.01532914862036705\n",
      "w = tensor([0.8263], requires_grad=True), b = tensor([0.8773], requires_grad=True), loss =0.015328934416174889\n",
      "w = tensor([0.8263], requires_grad=True), b = tensor([0.8773], requires_grad=True), loss =0.015328701585531235\n",
      "w = tensor([0.8263], requires_grad=True), b = tensor([0.8772], requires_grad=True), loss =0.01532841008156538\n",
      "w = tensor([0.8263], requires_grad=True), b = tensor([0.8772], requires_grad=True), loss =0.015328265726566315\n",
      "w = tensor([0.8263], requires_grad=True), b = tensor([0.8772], requires_grad=True), loss =0.015327989123761654\n",
      "w = tensor([0.8263], requires_grad=True), b = tensor([0.8772], requires_grad=True), loss =0.01532766129821539\n",
      "w = tensor([0.8263], requires_grad=True), b = tensor([0.8772], requires_grad=True), loss =0.015327509492635727\n",
      "w = tensor([0.8263], requires_grad=True), b = tensor([0.8772], requires_grad=True), loss =0.015327208675444126\n",
      "w = tensor([0.8263], requires_grad=True), b = tensor([0.8772], requires_grad=True), loss =0.015326893888413906\n"
     ]
    },
    {
     "data": {
      "text/plain": "<Figure size 640x480 with 1 Axes>",
      "image/png": "[encoded data removed]"
     },
     "metadata": {},
     "output_type": "display_data"
    }
   ],
   "source": [
    "learning_rate = torch.tensor(0.001)\n",
    "loss_list = []\n",
    "\n",
    "for epoch in range(100):\n",
    "    loss = 0.0\n",
    "    for i in range(len(x)):\n",
    "        y_p = w*x[i] + b\n",
    "        loss += (y_p - y[i])**2\n",
    "    loss = loss / len(x)\n",
    "    # print('loss: ', loss.item())\n",
    "    loss_list.append(loss.item())\n",
    "    \n",
    "    loss.backward()\n",
    "    with torch.no_grad():\n",
    "        w -= learning_rate* w.grad\n",
    "        b -= learning_rate* b.grad\n",
    "    w.grad.zero_()\n",
    "    b.grad.zero_()\n",
    "    print(f'w = {w}, b = {b}, loss ={loss.item()}')\n",
    "\n",
    "plt.plot(loss_list)\n",
    "plt.show()\n",
    "    "
   ],
   "metadata": {
    "collapsed": false,
    "ExecuteTime": {
     "end_time": "2024-02-18T09:16:19.788464Z",
     "start_time": "2024-02-18T09:16:19.662173Z"
    }
   },
   "id": "e7ebcf7b10e46b4",
   "execution_count": 89
  },
  {
   "cell_type": "markdown",
   "source": [
    "2. Find the value of w.grad, b.grad using analytical solution for the given linear regression \n",
    "problem. Initial value of w = b =1. Learning parameter is set to 0.001. Implement the same \n",
    "and verify the values of w.grad , b.grad and updated parameter values for two epochs. \n",
    "Consider the difference between predicted and target values of y is defined as (yp-y)"
   ],
   "metadata": {
    "collapsed": false
   },
   "id": "c677c4ef4a95b36d"
  },
  {
   "cell_type": "code",
   "outputs": [
    {
     "name": "stdout",
     "output_type": "stream",
     "text": [
      "w = 1.1740000247955322, b = 1.0520000457763672, loss =757.0\n",
      "w = 1.5182080268859863, b = 1.154852032661438, loss =724.3797607421875\n"
     ]
    }
   ],
   "source": [
    "import numpy as np\n",
    "inp_x = np.array([2,4])\n",
    "inp_y = np.array([20,40])\n",
    "\n",
    "x = torch.tensor(inp_x)\n",
    "y = torch.tensor(inp_y)\n",
    "w = torch.tensor(1.0, requires_grad=True)\n",
    "b = torch.tensor(1.0, requires_grad=True)\n",
    "learning_rate = torch.tensor(0.001)\n",
    "loss_list = []\n",
    "\n",
    "for epoch in range(2):\n",
    "    loss = 0.0\n",
    "    for j in range(len(x)):\n",
    "        y_p = w*x[j] + b\n",
    "        loss += (y_p - y[j])**2\n",
    "    loss = loss/len(x)\n",
    "    loss_list.append(loss.item())\n",
    "    loss.backward()\n",
    "    \n",
    "    with torch.no_grad():\n",
    "        w -= learning_rate* w.grad\n",
    "        b -= learning_rate* b.grad\n",
    "    print(f'w = {w}, b = {b}, loss ={loss.item()}')"
   ],
   "metadata": {
    "collapsed": false,
    "ExecuteTime": {
     "end_time": "2024-02-18T09:16:19.794685Z",
     "start_time": "2024-02-18T09:16:19.787274Z"
    }
   },
   "id": "5318f209bef026f9",
   "execution_count": 90
  },
  {
   "cell_type": "code",
   "outputs": [
    {
     "name": "stdout",
     "output_type": "stream",
     "text": [
      "w = 10.0, b = 0.0\n"
     ]
    }
   ],
   "source": [
    "def analytical(x,y):\n",
    "    x_mean = np.mean(x)\n",
    "    y_mean = np.mean(y)\n",
    "    numer = np.sum((x-x_mean)* (y-y_mean))\n",
    "    denom = np.sum((x-x_mean)**2)\n",
    "    w = numer/denom\n",
    "    b = y_mean - w*x_mean\n",
    "    print(f'w = {w}, b = {b}')\n",
    "    \n",
    "analytical(inp_x,inp_y)"
   ],
   "metadata": {
    "collapsed": false,
    "ExecuteTime": {
     "end_time": "2024-02-18T09:16:19.800876Z",
     "start_time": "2024-02-18T09:16:19.795650Z"
    }
   },
   "id": "245e631b266f97b8",
   "execution_count": 91
  },
  {
   "cell_type": "markdown",
   "source": [
    "3. Revise the linear regression model by defining a user defined class titled RegressionModel\n",
    "with two parameters w and b as its member variables. Define a constructor to initialize w \n",
    "and b with value 1. Define four member functions namely forward(x) to implement wx+b, \n",
    "update() to update w and b values, reset_grad() to reset parameters to zero, criterion(y, yp) \n",
    "to implement MSE Loss given the predicted y value yp and the target label y. Define an \n",
    "object of this class named model and invoke all the methods. Plot the graph of epoch vs \n",
    "loss by varying epoch to 100 iterations. \n",
    "x = torch.tensor([5.0, 7.0, 12.0, 16.0, 20.0])\n",
    "y = torch.tensor([40.0, 120.0, 180.0, 210.0, 240.0])"
   ],
   "metadata": {
    "collapsed": false
   },
   "id": "a806c592c36ba742"
  },
  {
   "cell_type": "code",
   "outputs": [],
   "source": [
    "x = torch.tensor([5.0, 7.0, 12.0, 16.0, 20.0])\n",
    "y = torch.tensor([40.0, 120.0, 180.0, 210.0, 240.0])\n",
    "learning_rate = torch.tensor(0.001)"
   ],
   "metadata": {
    "collapsed": false,
    "ExecuteTime": {
     "end_time": "2024-02-18T09:16:20.011409Z",
     "start_time": "2024-02-18T09:16:19.799384Z"
    }
   },
   "id": "7f7050b2a7179e93",
   "execution_count": 92
  },
  {
   "cell_type": "code",
   "outputs": [],
   "source": [
    "class LinearRegression:\n",
    "    def __init__(self):\n",
    "        self.w = torch.ones([1], requires_grad=True)\n",
    "        self.b = torch.ones([1], requires_grad=True)\n",
    "    def forward(self,x):\n",
    "        return self.w * x + self.b\n",
    "    def update(self):\n",
    "        self.w -= learning_rate * self.w.grad\n",
    "        self.b -= learning_rate * self.b.grad\n",
    "    def reset_grad(self):\n",
    "        self.w.grad.zero_()\n",
    "        self.b.grad.zero_()\n",
    "    def criterion(self,yj,yp):\n",
    "        return (yj-yp)**2"
   ],
   "metadata": {
    "collapsed": false,
    "ExecuteTime": {
     "end_time": "2024-02-18T09:16:20.055923Z",
     "start_time": "2024-02-18T09:16:19.804571Z"
    }
   },
   "id": "59fa7f7bc8908ab7",
   "execution_count": 93
  },
  {
   "cell_type": "code",
   "outputs": [
    {
     "name": "stdout",
     "output_type": "stream",
     "text": [
      "w = 1.5182080268859863, b = 1.154852032661438, loss =25359.80078125\n",
      "w = 1.5182080268859863, b = 1.154852032661438, loss =10952.734375\n",
      "w = 1.5182080268859863, b = 1.154852032661438, loss =4889.1201171875\n",
      "w = 1.5182080268859863, b = 1.154852032661438, loss =2337.07373046875\n",
      "w = 1.5182080268859863, b = 1.154852032661438, loss =1262.96875\n",
      "w = 1.5182080268859863, b = 1.154852032661438, loss =810.8944702148438\n",
      "w = 1.5182080268859863, b = 1.154852032661438, loss =620.6205444335938\n",
      "w = 1.5182080268859863, b = 1.154852032661438, loss =540.5318603515625\n",
      "w = 1.5182080268859863, b = 1.154852032661438, loss =506.8174743652344\n",
      "w = 1.5182080268859863, b = 1.154852032661438, loss =492.6212463378906\n",
      "w = 1.5182080268859863, b = 1.154852032661438, loss =486.63970947265625\n",
      "w = 1.5182080268859863, b = 1.154852032661438, loss =484.11553955078125\n",
      "w = 1.5182080268859863, b = 1.154852032661438, loss =483.04638671875\n",
      "w = 1.5182080268859863, b = 1.154852032661438, loss =482.589599609375\n",
      "w = 1.5182080268859863, b = 1.154852032661438, loss =482.39093017578125\n",
      "w = 1.5182080268859863, b = 1.154852032661438, loss =482.3006896972656\n",
      "w = 1.5182080268859863, b = 1.154852032661438, loss =482.25628662109375\n",
      "w = 1.5182080268859863, b = 1.154852032661438, loss =482.23046875\n",
      "w = 1.5182080268859863, b = 1.154852032661438, loss =482.2132873535156\n",
      "w = 1.5182080268859863, b = 1.154852032661438, loss =482.1993103027344\n",
      "w = 1.5182080268859863, b = 1.154852032661438, loss =482.1866760253906\n",
      "w = 1.5182080268859863, b = 1.154852032661438, loss =482.17510986328125\n",
      "w = 1.5182080268859863, b = 1.154852032661438, loss =482.16326904296875\n",
      "w = 1.5182080268859863, b = 1.154852032661438, loss =482.15203857421875\n",
      "w = 1.5182080268859863, b = 1.154852032661438, loss =482.1404724121094\n",
      "w = 1.5182080268859863, b = 1.154852032661438, loss =482.1288146972656\n",
      "w = 1.5182080268859863, b = 1.154852032661438, loss =482.11749267578125\n",
      "w = 1.5182080268859863, b = 1.154852032661438, loss =482.10614013671875\n",
      "w = 1.5182080268859863, b = 1.154852032661438, loss =482.0948791503906\n",
      "w = 1.5182080268859863, b = 1.154852032661438, loss =482.0833435058594\n",
      "w = 1.5182080268859863, b = 1.154852032661438, loss =482.07171630859375\n",
      "w = 1.5182080268859863, b = 1.154852032661438, loss =482.06060791015625\n",
      "w = 1.5182080268859863, b = 1.154852032661438, loss =482.0496520996094\n",
      "w = 1.5182080268859863, b = 1.154852032661438, loss =482.0379943847656\n",
      "w = 1.5182080268859863, b = 1.154852032661438, loss =482.02667236328125\n",
      "w = 1.5182080268859863, b = 1.154852032661438, loss =482.01531982421875\n",
      "w = 1.5182080268859863, b = 1.154852032661438, loss =482.00384521484375\n",
      "w = 1.5182080268859863, b = 1.154852032661438, loss =481.99285888671875\n",
      "w = 1.5182080268859863, b = 1.154852032661438, loss =481.9812927246094\n",
      "w = 1.5182080268859863, b = 1.154852032661438, loss =481.97027587890625\n",
      "w = 1.5182080268859863, b = 1.154852032661438, loss =481.958740234375\n",
      "w = 1.5182080268859863, b = 1.154852032661438, loss =481.9476623535156\n",
      "w = 1.5182080268859863, b = 1.154852032661438, loss =481.93603515625\n",
      "w = 1.5182080268859863, b = 1.154852032661438, loss =481.9251403808594\n",
      "w = 1.5182080268859863, b = 1.154852032661438, loss =481.91363525390625\n",
      "w = 1.5182080268859863, b = 1.154852032661438, loss =481.902099609375\n",
      "w = 1.5182080268859863, b = 1.154852032661438, loss =481.8912048339844\n",
      "w = 1.5182080268859863, b = 1.154852032661438, loss =481.8798828125\n",
      "w = 1.5182080268859863, b = 1.154852032661438, loss =481.86883544921875\n",
      "w = 1.5182080268859863, b = 1.154852032661438, loss =481.85760498046875\n",
      "w = 1.5182080268859863, b = 1.154852032661438, loss =481.84625244140625\n",
      "w = 1.5182080268859863, b = 1.154852032661438, loss =481.8351135253906\n",
      "w = 1.5182080268859863, b = 1.154852032661438, loss =481.8240661621094\n",
      "w = 1.5182080268859863, b = 1.154852032661438, loss =481.812744140625\n",
      "w = 1.5182080268859863, b = 1.154852032661438, loss =481.8016662597656\n",
      "w = 1.5182080268859863, b = 1.154852032661438, loss =481.790283203125\n",
      "w = 1.5182080268859863, b = 1.154852032661438, loss =481.77899169921875\n",
      "w = 1.5182080268859863, b = 1.154852032661438, loss =481.76806640625\n",
      "w = 1.5182080268859863, b = 1.154852032661438, loss =481.7569274902344\n",
      "w = 1.5182080268859863, b = 1.154852032661438, loss =481.74566650390625\n",
      "w = 1.5182080268859863, b = 1.154852032661438, loss =481.7345275878906\n",
      "w = 1.5182080268859863, b = 1.154852032661438, loss =481.723388671875\n",
      "w = 1.5182080268859863, b = 1.154852032661438, loss =481.7123107910156\n",
      "w = 1.5182080268859863, b = 1.154852032661438, loss =481.701171875\n",
      "w = 1.5182080268859863, b = 1.154852032661438, loss =481.6902770996094\n",
      "w = 1.5182080268859863, b = 1.154852032661438, loss =481.67919921875\n",
      "w = 1.5182080268859863, b = 1.154852032661438, loss =481.66802978515625\n",
      "w = 1.5182080268859863, b = 1.154852032661438, loss =481.65673828125\n",
      "w = 1.5182080268859863, b = 1.154852032661438, loss =481.64569091796875\n",
      "w = 1.5182080268859863, b = 1.154852032661438, loss =481.63458251953125\n",
      "w = 1.5182080268859863, b = 1.154852032661438, loss =481.6238708496094\n",
      "w = 1.5182080268859863, b = 1.154852032661438, loss =481.6123046875\n",
      "w = 1.5182080268859863, b = 1.154852032661438, loss =481.6015625\n",
      "w = 1.5182080268859863, b = 1.154852032661438, loss =481.5908203125\n",
      "w = 1.5182080268859863, b = 1.154852032661438, loss =481.5794372558594\n",
      "w = 1.5182080268859863, b = 1.154852032661438, loss =481.5686950683594\n",
      "w = 1.5182080268859863, b = 1.154852032661438, loss =481.55731201171875\n",
      "w = 1.5182080268859863, b = 1.154852032661438, loss =481.54681396484375\n",
      "w = 1.5182080268859863, b = 1.154852032661438, loss =481.53546142578125\n",
      "w = 1.5182080268859863, b = 1.154852032661438, loss =481.5243225097656\n",
      "w = 1.5182080268859863, b = 1.154852032661438, loss =481.51361083984375\n",
      "w = 1.5182080268859863, b = 1.154852032661438, loss =481.50238037109375\n",
      "w = 1.5182080268859863, b = 1.154852032661438, loss =481.4912109375\n",
      "w = 1.5182080268859863, b = 1.154852032661438, loss =481.48095703125\n",
      "w = 1.5182080268859863, b = 1.154852032661438, loss =481.4698181152344\n",
      "w = 1.5182080268859863, b = 1.154852032661438, loss =481.4585876464844\n",
      "w = 1.5182080268859863, b = 1.154852032661438, loss =481.44805908203125\n",
      "w = 1.5182080268859863, b = 1.154852032661438, loss =481.43701171875\n",
      "w = 1.5182080268859863, b = 1.154852032661438, loss =481.426025390625\n",
      "w = 1.5182080268859863, b = 1.154852032661438, loss =481.4148864746094\n",
      "w = 1.5182080268859863, b = 1.154852032661438, loss =481.40411376953125\n",
      "w = 1.5182080268859863, b = 1.154852032661438, loss =481.39312744140625\n",
      "w = 1.5182080268859863, b = 1.154852032661438, loss =481.38232421875\n",
      "w = 1.5182080268859863, b = 1.154852032661438, loss =481.37158203125\n",
      "w = 1.5182080268859863, b = 1.154852032661438, loss =481.36029052734375\n",
      "w = 1.5182080268859863, b = 1.154852032661438, loss =481.3497619628906\n",
      "w = 1.5182080268859863, b = 1.154852032661438, loss =481.3388671875\n",
      "w = 1.5182080268859863, b = 1.154852032661438, loss =481.32830810546875\n",
      "w = 1.5182080268859863, b = 1.154852032661438, loss =481.3172302246094\n",
      "w = 1.5182080268859863, b = 1.154852032661438, loss =481.30621337890625\n"
     ]
    },
    {
     "data": {
      "text/plain": "<Figure size 640x480 with 1 Axes>",
      "image/png": "[encoded data removed]"
     },
     "metadata": {},
     "output_type": "display_data"
    }
   ],
   "source": [
    "model = LinearRegression()\n",
    "loss_list = []\n",
    "for epoch in range(100):\n",
    "    loss = 0.0\n",
    "    for j in range(len(x)):\n",
    "        y_p = model.forward(x[j])\n",
    "        loss += model.criterion(y[j], y_p)\n",
    "    loss = loss / len(x)\n",
    "    loss_list.append(loss.item())\n",
    "    loss.backward()\n",
    "    \n",
    "    with torch.no_grad():\n",
    "        model.update()\n",
    "    model.reset_grad()\n",
    "    print(f'w = {w}, b = {b}, loss ={loss.item()}')\n",
    "plt.plot(loss_list)\n",
    "plt.show()"
   ],
   "metadata": {
    "collapsed": false,
    "ExecuteTime": {
     "end_time": "2024-02-18T09:16:20.167471Z",
     "start_time": "2024-02-18T09:16:19.808318Z"
    }
   },
   "id": "f59464d15e364bfc",
   "execution_count": 94
  },
  {
   "cell_type": "markdown",
   "source": [
    "4. Convert your program written in Qn 3 to extend nn.module in your model. Also override \n",
    "the necessary methods to fit the regression line. Illustrate the use of Dataset and DataLoader\n",
    "from torch.utils.data in your implementation. Use the SGD Optimizer torch.optim.SGD()"
   ],
   "metadata": {
    "collapsed": false
   },
   "id": "4fbc7a32f2b16a"
  },
  {
   "cell_type": "code",
   "outputs": [],
   "source": [
    "import torch.nn as nn\n",
    "from torch.utils.data import Dataset, DataLoader"
   ],
   "metadata": {
    "collapsed": false,
    "ExecuteTime": {
     "end_time": "2024-02-18T09:16:20.168503Z",
     "start_time": "2024-02-18T09:16:20.165226Z"
    }
   },
   "id": "27a8321396f61cb8",
   "execution_count": 95
  },
  {
   "cell_type": "code",
   "outputs": [],
   "source": [
    "x = torch.tensor([5.0, 7.0, 12.0, 16.0, 20.0])\n",
    "y = torch.tensor([40.0, 120.0, 180.0, 210.0, 240.0])"
   ],
   "metadata": {
    "collapsed": false,
    "ExecuteTime": {
     "end_time": "2024-02-18T09:16:20.179828Z",
     "start_time": "2024-02-18T09:16:20.171247Z"
    }
   },
   "id": "b214c4015ef0121f",
   "execution_count": 96
  },
  {
   "cell_type": "code",
   "outputs": [],
   "source": [
    "class MyDataset(Dataset):\n",
    "    def __init__(self,X,Y):\n",
    "        self.x = X\n",
    "        self.y = Y\n",
    "    def __len__(self):\n",
    "        return len(self.x)\n",
    "    def __getitem__(self, idx):\n",
    "        return self.x[idx], self.y[idx]"
   ],
   "metadata": {
    "collapsed": false,
    "ExecuteTime": {
     "end_time": "2024-02-18T09:16:20.181811Z",
     "start_time": "2024-02-18T09:16:20.177400Z"
    }
   },
   "id": "f32f794a80481193",
   "execution_count": 97
  },
  {
   "cell_type": "code",
   "outputs": [],
   "source": [
    "class RegressionModel(nn.Module):\n",
    "    def __init__(self):\n",
    "        super(RegressionModel,self).__init__()\n",
    "        self.w = nn.Parameter(torch.rand([1]))\n",
    "        self.b = nn.Parameter(torch.rand([1], requires_grad=True))\n",
    "    def forward(self,x):\n",
    "        return self.w*x + self.b\n",
    "    "
   ],
   "metadata": {
    "collapsed": false,
    "ExecuteTime": {
     "end_time": "2024-02-18T09:16:20.199905Z",
     "start_time": "2024-02-18T09:16:20.183283Z"
    }
   },
   "id": "1f400494d8b37604",
   "execution_count": 98
  },
  {
   "cell_type": "code",
   "outputs": [],
   "source": [
    "dataset = MyDataset(x,y)\n",
    "data_loader = DataLoader(dataset)\n",
    "loos_fn = nn.MSELoss()\n",
    "model = RegressionModel()\n",
    "criterion = nn.MSELoss()\n",
    "optimizer = torch.optim.SGD(model.parameters(), lr=0.001)"
   ],
   "metadata": {
    "collapsed": false,
    "ExecuteTime": {
     "end_time": "2024-02-18T09:16:20.200369Z",
     "start_time": "2024-02-18T09:16:20.188590Z"
    }
   },
   "id": "6df6d55671b35358",
   "execution_count": 99
  },
  {
   "cell_type": "code",
   "outputs": [
    {
     "name": "stdout",
     "output_type": "stream",
     "text": [
      "epoch 0 = The parameters are w=4.89801549911499, b=0.7659345269203186 and loss=27383.666015625\n",
      "epoch 10 = The parameters are w=12.799810409545898, b=1.3447904586791992 and loss=488.7427673339844\n",
      "epoch 20 = The parameters are w=12.901752471923828, b=1.387523889541626 and loss=483.9251403808594\n",
      "epoch 30 = The parameters are w=12.90069580078125, b=1.4230544567108154 and loss=483.79827880859375\n",
      "epoch 40 = The parameters are w=12.898286819458008, b=1.4583672285079956 and loss=483.6728515625\n",
      "epoch 50 = The parameters are w=12.895870208740234, b=1.4935553073883057 and loss=483.548583984375\n",
      "epoch 60 = The parameters are w=12.893460273742676, b=1.5286201238632202 and loss=483.42486572265625\n",
      "epoch 70 = The parameters are w=12.891058921813965, b=1.5635621547698975 and loss=483.3017578125\n",
      "epoch 80 = The parameters are w=12.888666152954102, b=1.598381757736206 and loss=483.17999267578125\n",
      "epoch 90 = The parameters are w=12.886281967163086, b=1.6330794095993042 and loss=483.05908203125\n"
     ]
    },
    {
     "data": {
      "text/plain": "<Figure size 640x480 with 1 Axes>",
      "image/png": "[encoded data removed]"
     },
     "metadata": {},
     "output_type": "display_data"
    }
   ],
   "source": [
    "loss_list = []\n",
    "for epoch in range(100):\n",
    "    loss = 0.0\n",
    "    optimizer.zero_grad()\n",
    "    for x,y in data_loader:\n",
    "        y_p = model.forward(x)\n",
    "        loss += criterion(y_p, y)\n",
    "    loss = loss/len(data_loader)\n",
    "    loss.backward()\n",
    "    optimizer.step()\n",
    "    if(epoch%10 == 0):\n",
    "        print(\"epoch {} = The parameters are w={}, b={} and loss={}\".format(epoch,model.w.item(), model.b.item(), loss.item()))\n",
    "    loss_list.append(loss.item())\n",
    "\n",
    "plt.plot(loss_list)\n",
    "plt.show()"
   ],
   "metadata": {
    "collapsed": false,
    "ExecuteTime": {
     "end_time": "2024-02-18T09:16:20.358624Z",
     "start_time": "2024-02-18T09:16:20.195698Z"
    }
   },
   "id": "9535b9ebac6a61b7",
   "execution_count": 100
  },
  {
   "cell_type": "markdown",
   "source": [
    "5. Use PyTorch’s nn.Linear() in your implementation to perform linear regression for the data \n",
    "provided in Qn. 1. Also plot the graph."
   ],
   "metadata": {
    "collapsed": false
   },
   "id": "3780c3f76f7b7782"
  },
  {
   "cell_type": "code",
   "outputs": [],
   "source": [
    "import torch\n",
    "from torch.utils.data import Dataset, DataLoader\n",
    "import torch.nn as F\n",
    "import matplotlib as plt"
   ],
   "metadata": {
    "collapsed": false,
    "ExecuteTime": {
     "end_time": "2024-02-18T09:17:28.004671Z",
     "start_time": "2024-02-18T09:17:27.992458Z"
    }
   },
   "id": "f45dfe7495873688",
   "execution_count": 109
  },
  {
   "cell_type": "code",
   "outputs": [],
   "source": [
    "class myDataset(Dataset):\n",
    "    def __init__(self,x,y):\n",
    "        self.x = x\n",
    "        self.y = y \n",
    "    def __len__(self):\n",
    "        return len(self.x)\n",
    "    def __getitem__(self, idx):\n",
    "        return self.x[idx], self.y[idx]"
   ],
   "metadata": {
    "collapsed": false,
    "ExecuteTime": {
     "end_time": "2024-02-18T09:17:28.005187Z",
     "start_time": "2024-02-18T09:17:27.996030Z"
    }
   },
   "id": "f5fefbf6d249278a",
   "execution_count": 110
  },
  {
   "cell_type": "code",
   "outputs": [],
   "source": [
    "class LinearRegression(F.Module):\n",
    "    def __init__(self):\n",
    "        super(LinearRegression, self).__init__()\n",
    "        self.linear = F.Linear(in_features=1, out_features=1)\n",
    "    def forward(self, x):\n",
    "        return self.linear(x)"
   ],
   "metadata": {
    "collapsed": false,
    "ExecuteTime": {
     "end_time": "2024-02-18T09:17:28.015733Z",
     "start_time": "2024-02-18T09:17:28.006520Z"
    }
   },
   "id": "759b0241f997a45b",
   "execution_count": 111
  },
  {
   "cell_type": "code",
   "outputs": [],
   "source": [
    "x = torch.tensor([12.4, 14.3, 14.5, 14.9, 16.1, 16.9, 16.5, 15.4, 17.0, 17.9, 18.8, 20.3, 22.4, 19.4, 15.5, 16.7, 17.3, 18.4, 19.2, 17.4, 19.5, 19.7, 21.2])\n",
    "y = torch.tensor([11.2, 12.5, 12.7, 13.1, 14.1, 14.8, 14.4, 13.4, 14.9, 15.6, 16.4, 17.7, 19.6, 16.9, 14.0, 14.6, 15.1, 16.1, 16.8, 15.2, 17.0, 17.2, 18.6])\n"
   ],
   "metadata": {
    "collapsed": false,
    "ExecuteTime": {
     "end_time": "2024-02-18T09:17:28.016184Z",
     "start_time": "2024-02-18T09:17:28.011083Z"
    }
   },
   "id": "5f9718ab4d41f059",
   "execution_count": 112
  },
  {
   "cell_type": "code",
   "outputs": [],
   "source": [
    "dataset = myDataset(x,y)\n",
    "data_loader = DataLoader(dataset)\n",
    "model = LinearRegression()\n",
    "criterion = F.MSELoss()\n",
    "optimizer = torch.optim.SGD(model.parameters(), lr=0.001)"
   ],
   "metadata": {
    "collapsed": false,
    "ExecuteTime": {
     "end_time": "2024-02-18T09:17:28.035739Z",
     "start_time": "2024-02-18T09:17:28.021614Z"
    }
   },
   "id": "740a696c51556bdf",
   "execution_count": 113
  },
  {
   "cell_type": "code",
   "outputs": [],
   "source": [
    "import matplotlib.pyplot as plt"
   ],
   "metadata": {
    "collapsed": false,
    "ExecuteTime": {
     "end_time": "2024-02-18T09:17:28.037561Z",
     "start_time": "2024-02-18T09:17:28.028192Z"
    }
   },
   "id": "42c81945f44e36c8",
   "execution_count": 114
  },
  {
   "cell_type": "code",
   "outputs": [
    {
     "name": "stdout",
     "output_type": "stream",
     "text": [
      "The parameters are w=0.22523486614227295, b=-0.5038589835166931 and loss=1007.5890502929688\n",
      "The parameters are w=0.9017185568809509, b=-0.4654955267906189 and loss=0.026353735476732254\n",
      "The parameters are w=0.9017395377159119, b=-0.4651713967323303 and loss=0.02633986435830593\n",
      "The parameters are w=0.9017214775085449, b=-0.4648495316505432 and loss=0.02632957696914673\n",
      "The parameters are w=0.9017033576965332, b=-0.46452778577804565 and loss=0.02631915919482708\n",
      "The parameters are w=0.9016852974891663, b=-0.4642062187194824 and loss=0.026308756321668625\n",
      "The parameters are w=0.9016671776771545, b=-0.4638846516609192 and loss=0.026298439130187035\n",
      "The parameters are w=0.9016491174697876, b=-0.46356335282325745 and loss=0.026288045570254326\n",
      "The parameters are w=0.9016310572624207, b=-0.4632420837879181 and loss=0.026277679949998856\n",
      "The parameters are w=0.9016129970550537, b=-0.4629208743572235 and loss=0.026267314329743385\n"
     ]
    },
    {
     "data": {
      "text/plain": "<Figure size 640x480 with 1 Axes>",
      "image/png": "[encoded data removed]"
     },
     "metadata": {},
     "output_type": "display_data"
    }
   ],
   "source": [
    "loss_list = []\n",
    "for epoch in range(100):\n",
    "    loss = 0.0\n",
    "    optimizer.zero_grad()\n",
    "    for x,y in data_loader:\n",
    "        y_p = model.forward(x)\n",
    "        loss += criterion(y_p, y)\n",
    "    loss = loss / len(data_loader)\n",
    "    loss.backward()\n",
    "    optimizer.step()\n",
    "    if(epoch%10 == 0):\n",
    "         print(\"The parameters are w={}, b={} and loss={}\".format(model.linear.weight.item(), model.linear.bias.item(), loss.item()))\n",
    "    loss_list.append(loss.item())\n",
    "    \n",
    "plt.plot(loss_list)\n",
    "plt.show()"
   ],
   "metadata": {
    "collapsed": false,
    "ExecuteTime": {
     "end_time": "2024-02-18T09:17:28.190006Z",
     "start_time": "2024-02-18T09:17:28.032748Z"
    }
   },
   "id": "dca0787a71a5e45c",
   "execution_count": 115
  },
  {
   "cell_type": "markdown",
   "source": [
    "6. Implement multiple linear regression for the data provided below\n",
    "    Verify your answer for the data point X1=3, X2=2."
   ],
   "metadata": {
    "collapsed": false
   },
   "id": "b2fd08958881e8af"
  },
  {
   "cell_type": "code",
   "outputs": [],
   "source": [
    "import torch\n",
    "import torch.nn as F   \n",
    "from torch.utils.data import DataLoader, Dataset\n",
    "import matplotlib.pyplot as plt"
   ],
   "metadata": {
    "collapsed": false,
    "ExecuteTime": {
     "end_time": "2024-02-18T10:08:41.766112Z",
     "start_time": "2024-02-18T10:08:41.763472Z"
    }
   },
   "id": "fd427f71f5ed88b6",
   "execution_count": 118
  },
  {
   "cell_type": "code",
   "outputs": [],
   "source": [
    "x1 = torch.tensor([3,4,5,6,2])\n",
    "x2 = torch.tensor([8,5,7,3,1])\n",
    "y = torch.tensor([-3.7,3.5,2.5,11.5,5.7])"
   ],
   "metadata": {
    "collapsed": false,
    "ExecuteTime": {
     "end_time": "2024-02-18T10:10:48.467880Z",
     "start_time": "2024-02-18T10:10:48.460601Z"
    }
   },
   "id": "445c18f8b212bc0f",
   "execution_count": 119
  },
  {
   "cell_type": "code",
   "outputs": [],
   "source": [
    "class MyDataset(Dataset):\n",
    "    def __init__(self,x1,x2,y):\n",
    "        self.x1 = x1\n",
    "        self.x2 = x2\n",
    "        self.y = y\n",
    "    def __len__(self):\n",
    "        return len(self.y)\n",
    "    def __getitem__(self,idx):\n",
    "        return self.x1[idx], self.x2[idx], self.y[idx]"
   ],
   "metadata": {
    "collapsed": false,
    "ExecuteTime": {
     "end_time": "2024-02-18T10:15:03.348892Z",
     "start_time": "2024-02-18T10:15:03.342317Z"
    }
   },
   "id": "6d4550132bd2d7d8",
   "execution_count": 120
  },
  {
   "cell_type": "code",
   "outputs": [],
   "source": [
    "class MultiRegression(F.Module):\n",
    "    def __init__(self):\n",
    "        super(MultiRegression, self).__init__()\n",
    "        self.w1 = F.Parameter(torch.rand([1], requires_grad=True))\n",
    "        self.w2 = F.Parameter(torch.rand([1], requires_grad=True))\n",
    "        self.b = F.Parameter(torch.rand([1], requires_grad=True))\n",
    "    def forward(self,x1,x2):\n",
    "        return self.w1*x1 + self.w2*x2 + self.b"
   ],
   "metadata": {
    "collapsed": false,
    "ExecuteTime": {
     "end_time": "2024-02-18T10:32:26.749159Z",
     "start_time": "2024-02-18T10:32:26.724754Z"
    }
   },
   "id": "10dd83ab5cc5d075",
   "execution_count": 131
  },
  {
   "cell_type": "code",
   "outputs": [],
   "source": [
    "dataset = MyDataset(x1,x2,y)\n",
    "data_loader = DataLoader(dataset, batch_size=2, shuffle=True)\n",
    "loss_fn = F.MSELoss()\n",
    "model = MultiRegression()\n",
    "optimizer = torch.optim.SGD(model.parameters(), lr=0.001)"
   ],
   "metadata": {
    "collapsed": false,
    "ExecuteTime": {
     "end_time": "2024-02-18T10:32:26.749935Z",
     "start_time": "2024-02-18T10:32:26.734232Z"
    }
   },
   "id": "670f797c13d6eda2",
   "execution_count": 132
  },
  {
   "cell_type": "code",
   "outputs": [
    {
     "name": "stdout",
     "output_type": "stream",
     "text": [
      "After 0 epochs, The parameters are w=0.5611004829406738,b=0.07100863754749298, and loss =Parameter containing:\n",
      "tensor([0.2532], requires_grad=True)\n",
      "After 1 epochs, The parameters are w=0.566279411315918,b=0.07748226076364517, and loss =Parameter containing:\n",
      "tensor([0.2545], requires_grad=True)\n",
      "After 2 epochs, The parameters are w=0.5710232853889465,b=0.08341209590435028, and loss =Parameter containing:\n",
      "tensor([0.2557], requires_grad=True)\n",
      "After 3 epochs, The parameters are w=0.5753686428070068,b=0.08884382992982864, and loss =Parameter containing:\n",
      "tensor([0.2568], requires_grad=True)\n",
      "After 4 epochs, The parameters are w=0.5793490409851074,b=0.09381929785013199, and loss =Parameter containing:\n",
      "tensor([0.2578], requires_grad=True)\n",
      "After 5 epochs, The parameters are w=0.5829950571060181,b=0.09837682545185089, and loss =Parameter containing:\n",
      "tensor([0.2587], requires_grad=True)\n",
      "After 6 epochs, The parameters are w=0.5863348245620728,b=0.10255151987075806, and loss =Parameter containing:\n",
      "tensor([0.2595], requires_grad=True)\n",
      "After 7 epochs, The parameters are w=0.5893940329551697,b=0.1063755452632904, and loss =Parameter containing:\n",
      "tensor([0.2603], requires_grad=True)\n",
      "After 8 epochs, The parameters are w=0.5921962857246399,b=0.10987834632396698, and loss =Parameter containing:\n",
      "tensor([0.2610], requires_grad=True)\n",
      "After 9 epochs, The parameters are w=0.5947631597518921,b=0.11308691650629044, and loss =Parameter containing:\n",
      "tensor([0.2616], requires_grad=True)\n",
      "After 10 epochs, The parameters are w=0.5971143841743469,b=0.11602596193552017, and loss =Parameter containing:\n",
      "tensor([0.2622], requires_grad=True)\n",
      "After 11 epochs, The parameters are w=0.5992681384086609,b=0.11871813237667084, and loss =Parameter containing:\n",
      "tensor([0.2627], requires_grad=True)\n",
      "After 12 epochs, The parameters are w=0.6012409329414368,b=0.12118415534496307, and loss =Parameter containing:\n",
      "tensor([0.2632], requires_grad=True)\n",
      "After 13 epochs, The parameters are w=0.6030480265617371,b=0.12344303727149963, and loss =Parameter containing:\n",
      "tensor([0.2637], requires_grad=True)\n",
      "After 14 epochs, The parameters are w=0.6047033071517944,b=0.12551216781139374, and loss =Parameter containing:\n",
      "tensor([0.2641], requires_grad=True)\n",
      "After 15 epochs, The parameters are w=0.6062195897102356,b=0.1274074912071228, and loss =Parameter containing:\n",
      "tensor([0.2645], requires_grad=True)\n",
      "After 16 epochs, The parameters are w=0.6076084971427917,b=0.1291436105966568, and loss =Parameter containing:\n",
      "tensor([0.2648], requires_grad=True)\n",
      "After 17 epochs, The parameters are w=0.6088806986808777,b=0.1307338923215866, and loss =Parameter containing:\n",
      "tensor([0.2651], requires_grad=True)\n",
      "After 18 epochs, The parameters are w=0.6100460886955261,b=0.13219060003757477, and loss =Parameter containing:\n",
      "tensor([0.2654], requires_grad=True)\n",
      "After 19 epochs, The parameters are w=0.6111135482788086,b=0.13352493941783905, and loss =Parameter containing:\n",
      "tensor([0.2657], requires_grad=True)\n",
      "After 20 epochs, The parameters are w=0.6120913624763489,b=0.1347471922636032, and loss =Parameter containing:\n",
      "tensor([0.2659], requires_grad=True)\n",
      "After 21 epochs, The parameters are w=0.6129870414733887,b=0.13586677610874176, and loss =Parameter containing:\n",
      "tensor([0.2662], requires_grad=True)\n",
      "After 22 epochs, The parameters are w=0.6138074994087219,b=0.13689231872558594, and loss =Parameter containing:\n",
      "tensor([0.2664], requires_grad=True)\n",
      "After 23 epochs, The parameters are w=0.61455899477005,b=0.13783171772956848, and loss =Parameter containing:\n",
      "tensor([0.2666], requires_grad=True)\n",
      "After 24 epochs, The parameters are w=0.615247368812561,b=0.1386922001838684, and loss =Parameter containing:\n",
      "tensor([0.2667], requires_grad=True)\n",
      "After 25 epochs, The parameters are w=0.6158779263496399,b=0.13948041200637817, and loss =Parameter containing:\n",
      "tensor([0.2669], requires_grad=True)\n",
      "After 26 epochs, The parameters are w=0.6164554953575134,b=0.14020240306854248, and loss =Parameter containing:\n",
      "tensor([0.2670], requires_grad=True)\n",
      "After 27 epochs, The parameters are w=0.6169845461845398,b=0.14086374640464783, and loss =Parameter containing:\n",
      "tensor([0.2672], requires_grad=True)\n",
      "After 28 epochs, The parameters are w=0.6174691915512085,b=0.1414695382118225, and loss =Parameter containing:\n",
      "tensor([0.2673], requires_grad=True)\n",
      "After 29 epochs, The parameters are w=0.6179131269454956,b=0.1420244425535202, and loss =Parameter containing:\n",
      "tensor([0.2674], requires_grad=True)\n",
      "After 30 epochs, The parameters are w=0.6183197498321533,b=0.14253273606300354, and loss =Parameter containing:\n",
      "tensor([0.2675], requires_grad=True)\n",
      "After 31 epochs, The parameters are w=0.6186922192573547,b=0.1429983377456665, and loss =Parameter containing:\n",
      "tensor([0.2676], requires_grad=True)\n",
      "After 32 epochs, The parameters are w=0.6190333962440491,b=0.14342482388019562, and loss =Parameter containing:\n",
      "tensor([0.2677], requires_grad=True)\n",
      "After 33 epochs, The parameters are w=0.6193459033966064,b=0.14381548762321472, and loss =Parameter containing:\n",
      "tensor([0.2678], requires_grad=True)\n",
      "After 34 epochs, The parameters are w=0.6196321845054626,b=0.14417333900928497, and loss =Parameter containing:\n",
      "tensor([0.2678], requires_grad=True)\n",
      "After 35 epochs, The parameters are w=0.6198944449424744,b=0.14450113475322723, and loss =Parameter containing:\n",
      "tensor([0.2679], requires_grad=True)\n",
      "After 36 epochs, The parameters are w=0.6201346516609192,b=0.14480139315128326, and loss =Parameter containing:\n",
      "tensor([0.2680], requires_grad=True)\n",
      "After 37 epochs, The parameters are w=0.6203546524047852,b=0.1450764238834381, and loss =Parameter containing:\n",
      "tensor([0.2680], requires_grad=True)\n",
      "After 38 epochs, The parameters are w=0.6205561757087708,b=0.1453283578157425, and loss =Parameter containing:\n",
      "tensor([0.2681], requires_grad=True)\n",
      "After 39 epochs, The parameters are w=0.6207407712936401,b=0.1455591320991516, and loss =Parameter containing:\n",
      "tensor([0.2681], requires_grad=True)\n",
      "After 40 epochs, The parameters are w=0.6209098696708679,b=0.14577051997184753, and loss =Parameter containing:\n",
      "tensor([0.2681], requires_grad=True)\n",
      "After 41 epochs, The parameters are w=0.6210647821426392,b=0.1459641456604004, and loss =Parameter containing:\n",
      "tensor([0.2682], requires_grad=True)\n",
      "After 42 epochs, The parameters are w=0.6212067008018494,b=0.14614151418209076, and loss =Parameter containing:\n",
      "tensor([0.2682], requires_grad=True)\n",
      "After 43 epochs, The parameters are w=0.6213366985321045,b=0.14630398154258728, and loss =Parameter containing:\n",
      "tensor([0.2683], requires_grad=True)\n",
      "After 44 epochs, The parameters are w=0.621455729007721,b=0.14645279943943024, and loss =Parameter containing:\n",
      "tensor([0.2683], requires_grad=True)\n",
      "After 45 epochs, The parameters are w=0.6215648055076599,b=0.14658911526203156, and loss =Parameter containing:\n",
      "tensor([0.2683], requires_grad=True)\n",
      "After 46 epochs, The parameters are w=0.6216647028923035,b=0.146713986992836, and loss =Parameter containing:\n",
      "tensor([0.2683], requires_grad=True)\n",
      "After 47 epochs, The parameters are w=0.6217561960220337,b=0.14682836830615997, and loss =Parameter containing:\n",
      "tensor([0.2684], requires_grad=True)\n",
      "After 48 epochs, The parameters are w=0.6218400001525879,b=0.14693313837051392, and loss =Parameter containing:\n",
      "tensor([0.2684], requires_grad=True)\n",
      "After 49 epochs, The parameters are w=0.6219167709350586,b=0.1470291018486023, and loss =Parameter containing:\n",
      "tensor([0.2684], requires_grad=True)\n",
      "After 50 epochs, The parameters are w=0.6219871044158936,b=0.1471170037984848, and loss =Parameter containing:\n",
      "tensor([0.2684], requires_grad=True)\n",
      "After 51 epochs, The parameters are w=0.6220515370368958,b=0.14719752967357635, and loss =Parameter containing:\n",
      "tensor([0.2684], requires_grad=True)\n",
      "After 52 epochs, The parameters are w=0.6221105456352234,b=0.1472712904214859, and loss =Parameter containing:\n",
      "tensor([0.2684], requires_grad=True)\n",
      "After 53 epochs, The parameters are w=0.6221646070480347,b=0.1473388522863388, and loss =Parameter containing:\n",
      "tensor([0.2685], requires_grad=True)\n",
      "After 54 epochs, The parameters are w=0.622214138507843,b=0.14740073680877686, and loss =Parameter containing:\n",
      "tensor([0.2685], requires_grad=True)\n",
      "After 55 epochs, The parameters are w=0.6222594976425171,b=0.14745742082595825, and loss =Parameter containing:\n",
      "tensor([0.2685], requires_grad=True)\n",
      "After 56 epochs, The parameters are w=0.6223010420799255,b=0.1475093513727188, and loss =Parameter containing:\n",
      "tensor([0.2685], requires_grad=True)\n",
      "After 57 epochs, The parameters are w=0.6223390698432922,b=0.14755691587924957, and loss =Parameter containing:\n",
      "tensor([0.2685], requires_grad=True)\n",
      "After 58 epochs, The parameters are w=0.6223739385604858,b=0.14760048687458038, and loss =Parameter containing:\n",
      "tensor([0.2685], requires_grad=True)\n",
      "After 59 epochs, The parameters are w=0.6224058866500854,b=0.1476403921842575, and loss =Parameter containing:\n",
      "tensor([0.2685], requires_grad=True)\n",
      "After 60 epochs, The parameters are w=0.6224351525306702,b=0.14767694473266602, and loss =Parameter containing:\n",
      "tensor([0.2685], requires_grad=True)\n",
      "After 61 epochs, The parameters are w=0.6224619150161743,b=0.1477104276418686, and loss =Parameter containing:\n",
      "tensor([0.2685], requires_grad=True)\n",
      "After 62 epochs, The parameters are w=0.6224864721298218,b=0.14774110913276672, and loss =Parameter containing:\n",
      "tensor([0.2685], requires_grad=True)\n",
      "After 63 epochs, The parameters are w=0.6225089430809021,b=0.14776919782161713, and loss =Parameter containing:\n",
      "tensor([0.2685], requires_grad=True)\n",
      "After 64 epochs, The parameters are w=0.6225295066833496,b=0.1477949321269989, and loss =Parameter containing:\n",
      "tensor([0.2685], requires_grad=True)\n",
      "After 65 epochs, The parameters are w=0.6225483417510986,b=0.14781850576400757, and loss =Parameter containing:\n",
      "tensor([0.2686], requires_grad=True)\n",
      "After 66 epochs, The parameters are w=0.6225656270980835,b=0.14784009754657745, and loss =Parameter containing:\n",
      "tensor([0.2686], requires_grad=True)\n",
      "After 67 epochs, The parameters are w=0.6225814819335938,b=0.14785988628864288, and loss =Parameter containing:\n",
      "tensor([0.2686], requires_grad=True)\n",
      "After 68 epochs, The parameters are w=0.6225959658622742,b=0.1478780061006546, and loss =Parameter containing:\n",
      "tensor([0.2686], requires_grad=True)\n",
      "After 69 epochs, The parameters are w=0.6226092576980591,b=0.14789460599422455, and loss =Parameter containing:\n",
      "tensor([0.2686], requires_grad=True)\n",
      "After 70 epochs, The parameters are w=0.6226214170455933,b=0.14790980517864227, and loss =Parameter containing:\n",
      "tensor([0.2686], requires_grad=True)\n",
      "After 71 epochs, The parameters are w=0.6226325631141663,b=0.14792373776435852, and loss =Parameter containing:\n",
      "tensor([0.2686], requires_grad=True)\n",
      "After 72 epochs, The parameters are w=0.6226427555084229,b=0.14793649315834045, and loss =Parameter containing:\n",
      "tensor([0.2686], requires_grad=True)\n",
      "After 73 epochs, The parameters are w=0.6226521134376526,b=0.14794817566871643, and loss =Parameter containing:\n",
      "tensor([0.2686], requires_grad=True)\n",
      "After 74 epochs, The parameters are w=0.6226606965065002,b=0.1479588747024536, and loss =Parameter containing:\n",
      "tensor([0.2686], requires_grad=True)\n",
      "After 75 epochs, The parameters are w=0.6226685643196106,b=0.14796867966651917, and loss =Parameter containing:\n",
      "tensor([0.2686], requires_grad=True)\n",
      "After 76 epochs, The parameters are w=0.6226757764816284,b=0.14797766506671906, and loss =Parameter containing:\n",
      "tensor([0.2686], requires_grad=True)\n",
      "After 77 epochs, The parameters are w=0.6226823329925537,b=0.14798589050769806, and loss =Parameter containing:\n",
      "tensor([0.2686], requires_grad=True)\n",
      "After 78 epochs, The parameters are w=0.622688353061676,b=0.14799343049526215, and loss =Parameter containing:\n",
      "tensor([0.2686], requires_grad=True)\n",
      "After 79 epochs, The parameters are w=0.6226938962936401,b=0.1480003297328949, and loss =Parameter containing:\n",
      "tensor([0.2686], requires_grad=True)\n",
      "After 80 epochs, The parameters are w=0.622698962688446,b=0.1480066478252411, and loss =Parameter containing:\n",
      "tensor([0.2686], requires_grad=True)\n",
      "After 81 epochs, The parameters are w=0.6227036118507385,b=0.1480124294757843, and loss =Parameter containing:\n",
      "tensor([0.2686], requires_grad=True)\n",
      "After 82 epochs, The parameters are w=0.6227078437805176,b=0.1480177342891693, and loss =Parameter containing:\n",
      "tensor([0.2686], requires_grad=True)\n",
      "After 83 epochs, The parameters are w=0.622711718082428,b=0.1480225920677185, and loss =Parameter containing:\n",
      "tensor([0.2686], requires_grad=True)\n",
      "After 84 epochs, The parameters are w=0.6227152943611145,b=0.14802704751491547, and loss =Parameter containing:\n",
      "tensor([0.2686], requires_grad=True)\n",
      "After 85 epochs, The parameters are w=0.6227185726165771,b=0.1480311155319214, and loss =Parameter containing:\n",
      "tensor([0.2686], requires_grad=True)\n",
      "After 86 epochs, The parameters are w=0.6227215528488159,b=0.14803484082221985, and loss =Parameter containing:\n",
      "tensor([0.2686], requires_grad=True)\n",
      "After 87 epochs, The parameters are w=0.6227242946624756,b=0.14803825318813324, and loss =Parameter containing:\n",
      "tensor([0.2686], requires_grad=True)\n",
      "After 88 epochs, The parameters are w=0.6227267980575562,b=0.14804138243198395, and loss =Parameter containing:\n",
      "tensor([0.2686], requires_grad=True)\n",
      "After 89 epochs, The parameters are w=0.6227290630340576,b=0.14804424345493317, and loss =Parameter containing:\n",
      "tensor([0.2686], requires_grad=True)\n",
      "After 90 epochs, The parameters are w=0.6227311491966248,b=0.14804686605930328, and loss =Parameter containing:\n",
      "tensor([0.2686], requires_grad=True)\n",
      "After 91 epochs, The parameters are w=0.6227330565452576,b=0.1480492800474167, and loss =Parameter containing:\n",
      "tensor([0.2686], requires_grad=True)\n",
      "After 92 epochs, The parameters are w=0.6227348446846008,b=0.14805148541927338, and loss =Parameter containing:\n",
      "tensor([0.2686], requires_grad=True)\n",
      "After 93 epochs, The parameters are w=0.6227364540100098,b=0.14805351197719574, and loss =Parameter containing:\n",
      "tensor([0.2686], requires_grad=True)\n",
      "After 94 epochs, The parameters are w=0.6227379441261292,b=0.14805535972118378, and loss =Parameter containing:\n",
      "tensor([0.2686], requires_grad=True)\n",
      "After 95 epochs, The parameters are w=0.622739315032959,b=0.14805705845355988, and loss =Parameter containing:\n",
      "tensor([0.2686], requires_grad=True)\n",
      "After 96 epochs, The parameters are w=0.6227405667304993,b=0.14805860817432404, and loss =Parameter containing:\n",
      "tensor([0.2686], requires_grad=True)\n",
      "After 97 epochs, The parameters are w=0.62274169921875,b=0.14806003868579865, and loss =Parameter containing:\n",
      "tensor([0.2686], requires_grad=True)\n",
      "After 98 epochs, The parameters are w=0.622742772102356,b=0.1480613499879837, and loss =Parameter containing:\n",
      "tensor([0.2686], requires_grad=True)\n",
      "After 99 epochs, The parameters are w=0.6227437257766724,b=0.1480625420808792, and loss =Parameter containing:\n",
      "tensor([0.2686], requires_grad=True)\n"
     ]
    }
   ],
   "source": [
    "loss_list = []\n",
    "for epoch in range(100):\n",
    "    loss = 0.0\n",
    "    for i,data in enumerate(data_loader):\n",
    "        x1,x2,y = data\n",
    "        optimizer.zero_grad()\n",
    "        y_pred = model(x1,x2)\n",
    "        loss += loss_fn(y_pred, y)\n",
    "        loss.backward()\n",
    "        optimizer.step()\n",
    "        loss += loss\n",
    "    loss = loss / len(data_loader)\n",
    "    loss_list.append(loss.item())\n",
    "    print(\"After {} epochs, The parameters are w={},b={}, and loss ={}\".format(epoch, model.w1.item(),model.w2.item(),model.b,loss.item()))\n"
   ],
   "metadata": {
    "collapsed": false,
    "ExecuteTime": {
     "end_time": "2024-02-18T10:32:26.776131Z",
     "start_time": "2024-02-18T10:32:26.751807Z"
    }
   },
   "id": "1c2c44c181df5845",
   "execution_count": 133
  },
  {
   "cell_type": "code",
   "outputs": [
    {
     "name": "stdout",
     "output_type": "stream",
     "text": [
      "Predicted output: 3.4998908042907715\n"
     ]
    }
   ],
   "source": [
    "x1 = torch.tensor([4.0])\n",
    "x2 = torch.tensor([5.0])\n",
    "\n",
    "# Make predictions using the trained model\n",
    "with torch.no_grad():\n",
    "    y_pred = model(x1, x2)\n",
    "\n",
    "print(\"Predicted output:\", y_pred.item())"
   ],
   "metadata": {
    "collapsed": false,
    "ExecuteTime": {
     "end_time": "2024-02-18T10:34:59.847104Z",
     "start_time": "2024-02-18T10:34:59.840627Z"
    }
   },
   "id": "a46e9905ef03715",
   "execution_count": 139
  },
  {
   "cell_type": "code",
   "outputs": [
    {
     "data": {
      "text/plain": "<Figure size 640x480 with 1 Axes>",
      "image/png": "[encoded data removed]"
     },
     "metadata": {},
     "output_type": "display_data"
    }
   ],
   "source": [
    "plt.plot(loss_list)\n",
    "plt.show()"
   ],
   "metadata": {
    "collapsed": false,
    "ExecuteTime": {
     "end_time": "2024-02-18T10:35:18.249415Z",
     "start_time": "2024-02-18T10:35:18.174224Z"
    }
   },
   "id": "9188e244f1460a87",
   "execution_count": 140
  },
  {
   "cell_type": "markdown",
   "source": [
    "7. Implement logistic regression \n",
    "x = [1, 5, 10, 10, 25, 50, 70, 75, 100,]\n",
    "y = [0, 0, 0, 0, 0, 1, 1, 1, 1]"
   ],
   "metadata": {
    "collapsed": false
   },
   "id": "e4a82852ed427c92"
  },
  {
   "cell_type": "code",
   "outputs": [],
   "source": [
    "class MyDataset(Dataset):\n",
    "    def __init__(self, X, Y):\n",
    "        self.X = X\n",
    "        self.Y = Y\n",
    "\n",
    "    def __len__(self):\n",
    "        return len(self.X)\n",
    "\n",
    "    def __getitem__(self, i):\n",
    "        return self.X[i], self.Y[i]"
   ],
   "metadata": {
    "collapsed": false,
    "ExecuteTime": {
     "end_time": "2024-02-18T14:47:44.784227Z",
     "start_time": "2024-02-18T14:47:44.754431Z"
    }
   },
   "id": "20d2c5b836beaf6e",
   "execution_count": 158
  },
  {
   "cell_type": "code",
   "outputs": [],
   "source": [
    "class LogisticRegression(F.Module):\n",
    "    def __init__(self, in_dim, op_dim):\n",
    "        super(LogisticRegression, self).__init__()\n",
    "        self.linear = F.Linear(in_dim, op_dim)\n",
    "        self.sigmoid = F.Sigmoid()\n",
    "    def forward(self, x):\n",
    "        x= self.linear(x)\n",
    "        x = self.sigmoid(x)\n",
    "        return x\n",
    "        "
   ],
   "metadata": {
    "collapsed": false,
    "ExecuteTime": {
     "end_time": "2024-02-18T14:47:44.785195Z",
     "start_time": "2024-02-18T14:47:44.758366Z"
    }
   },
   "id": "96cf444c946831c1",
   "execution_count": 159
  },
  {
   "cell_type": "code",
   "outputs": [
    {
     "data": {
      "text/plain": "<Figure size 640x480 with 1 Axes>",
      "image/png": "[encoded data removed]"
     },
     "metadata": {},
     "output_type": "display_data"
    }
   ],
   "source": [
    "X = torch.tensor([1, 5, 10, 10, 25, 50, 70, 75, 100], dtype=torch.float32)\n",
    "Y = torch.tensor([0, 0, 0, 0, 0, 1, 1, 1, 1], dtype=torch.float32)\n",
    "plt.scatter(X,Y, c=Y)\n",
    "plt.show()"
   ],
   "metadata": {
    "collapsed": false,
    "ExecuteTime": {
     "end_time": "2024-02-18T14:47:44.846037Z",
     "start_time": "2024-02-18T14:47:44.791109Z"
    }
   },
   "id": "fae6ce6e91fdc9c9",
   "execution_count": 160
  },
  {
   "cell_type": "code",
   "outputs": [],
   "source": [
    "dataset = MyDataset(X, Y)\n",
    "data_loader = DataLoader(dataset)\n",
    "model = LogisticRegression(1,1)\n",
    "criterion = F.BCELoss()\n",
    "optimizer = torch.optim.SGD(model.parameters(), lr=0.01)"
   ],
   "metadata": {
    "collapsed": false,
    "ExecuteTime": {
     "end_time": "2024-02-18T14:47:44.850698Z",
     "start_time": "2024-02-18T14:47:44.846174Z"
    }
   },
   "id": "ebc93c113660abf",
   "execution_count": 161
  },
  {
   "cell_type": "code",
   "outputs": [
    {
     "name": "stdout",
     "output_type": "stream",
     "text": [
      "epoch: 0 => w = -0.6248359084129333, , b=-0.640588641166687, loss =20.80828285217285\n",
      "epoch: 100 => w = 0.04312973842024803, , b=-0.7585359215736389, loss =0.35998356342315674\n",
      "epoch: 200 => w = 0.046897921711206436, , b=-0.9408866763114929, loss =0.3266497552394867\n",
      "epoch: 300 => w = 0.05038876459002495, , b=-1.1078605651855469, loss =0.2987041175365448\n",
      "epoch: 400 => w = 0.053656045347452164, , b=-1.2614375352859497, loss =0.2750656306743622\n",
      "epoch: 500 => w = 0.05672089755535126, , b=-1.403324842453003, loss =0.25489094853401184\n",
      "epoch: 600 => w = 0.05960294231772423, , b=-1.534979224205017, loss =0.23752325773239136\n",
      "epoch: 700 => w = 0.062319882214069366, , b=-1.6576390266418457, loss =0.22244888544082642\n",
      "epoch: 800 => w = 0.06488765776157379, , b=-1.7723597288131714, loss =0.20926399528980255\n",
      "epoch: 900 => w = 0.06732045114040375, , b=-1.880039930343628, loss =0.19764862954616547\n"
     ]
    }
   ],
   "source": [
    "loss_list = []\n",
    "for epoch in range(1000):\n",
    "    loss = 0.0\n",
    "    optimizer.zero_grad()\n",
    "    for x,y in data_loader:\n",
    "        y_p = model(x)\n",
    "        loss += criterion(y_p, y)\n",
    "    loss = loss/len(data_loader)\n",
    "    loss.backward()\n",
    "    optimizer.step()\n",
    "    loss_list.append(loss.item())\n",
    "    if(epoch%100 == 0):\n",
    "        print('epoch: {} => w = {}, , b={}, loss ={}'.format(epoch , model.linear.weight.item(), model.linear.bias.item(), loss.item()))"
   ],
   "metadata": {
    "collapsed": false,
    "ExecuteTime": {
     "end_time": "2024-02-18T14:47:45.342669Z",
     "start_time": "2024-02-18T14:47:44.851153Z"
    }
   },
   "id": "14e64618349a61c7",
   "execution_count": 162
  },
  {
   "cell_type": "code",
   "outputs": [
    {
     "data": {
      "text/plain": "<Figure size 640x480 with 1 Axes>",
      "image/png": "[encoded data removed]"
     },
     "metadata": {},
     "output_type": "display_data"
    }
   ],
   "source": [
    "plt.plot(loss_list)\n",
    "plt.show()"
   ],
   "metadata": {
    "collapsed": false,
    "ExecuteTime": {
     "end_time": "2024-02-18T14:47:45.397271Z",
     "start_time": "2024-02-18T14:47:45.350610Z"
    }
   },
   "id": "21db8c6474ca6e5c",
   "execution_count": 163
  },
  {
   "cell_type": "code",
   "outputs": [],
   "source": [],
   "metadata": {
    "collapsed": false,
    "ExecuteTime": {
     "end_time": "2024-02-18T14:47:45.397383Z",
     "start_time": "2024-02-18T14:47:45.394178Z"
    }
   },
   "id": "e230847fee106ab",
   "execution_count": 163
  }
 ],
 "metadata": {
  "kernelspec": {
   "display_name": "Python 3",
   "language": "python",
   "name": "python3"
  },
  "language_info": {
   "codemirror_mode": {
    "name": "ipython",
    "version": 2
   },
   "file_extension": ".py",
   "mimetype": "text/x-python",
   "name": "python",
   "nbconvert_exporter": "python",
   "pygments_lexer": "ipython2",
   "version": "2.7.6"
  }
 },
 "nbformat": 4,
 "nbformat_minor": 5
}
