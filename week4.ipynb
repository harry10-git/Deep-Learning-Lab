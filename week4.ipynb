{
 "cells": [
  {
   "cell_type": "code",
   "execution_count": 2,
   "id": "6323ef40",
   "metadata": {},
   "outputs": [
    {
     "name": "stdout",
     "output_type": "stream",
     "text": [
      "XORModel(\n",
      "  (linear1): Linear(in_features=2, out_features=2, bias=True)\n",
      "  (activation1): ReLU()\n",
      "  (linear2): Linear(in_features=2, out_features=1, bias=True)\n",
      ")\n"
     ]
    },
    {
     "name": "stderr",
     "output_type": "stream",
     "text": [
      "/Library/Frameworks/Python.framework/Versions/3.11/lib/python3.11/site-packages/tqdm/auto.py:21: TqdmWarning: IProgress not found. Please update jupyter and ipywidgets. See https://ipywidgets.readthedocs.io/en/stable/user_install.html\n",
      "  from .autonotebook import tqdm as notebook_tqdm\n"
     ]
    },
    {
     "name": "stdout",
     "output_type": "stream",
     "text": [
      "Epoch 1000/10000, Loss = 0.13272927937237\n",
      "Epoch 2000/10000, Loss = 0.13223592210852075\n",
      "Epoch 3000/10000, Loss = 0.13247996004338347\n",
      "Epoch 4000/10000, Loss = 0.13273327170099947\n",
      "Epoch 5000/10000, Loss = 0.13250787786637375\n",
      "Epoch 6000/10000, Loss = 0.13288502055365825\n",
      "Epoch 7000/10000, Loss = 0.13272855479851842\n",
      "Epoch 8000/10000, Loss = 0.13273427388041625\n",
      "Epoch 9000/10000, Loss = 0.13277523385113454\n",
      "Epoch 10000/10000, Loss = 0.1328024364884186\n",
      "Total parameters: 9\n",
      "Input =  tensor([0., 1.])\n",
      "Output =  0.9925655126571655\n"
     ]
    },
    {
     "data": {
      "image/png": "[encoded data removed]",
      "text/plain": [
       "<Figure size 640x480 with 1 Axes>"
      ]
     },
     "metadata": {},
     "output_type": "display_data"
    }
   ],
   "source": [
    "import torch\n",
    "import matplotlib.pyplot as plt\n",
    "from torch.utils.data import Dataset, DataLoader\n",
    "import torch.nn as nn\n",
    "\n",
    "loss_list = []\n",
    "torch.manual_seed(42)\n",
    "\n",
    "x = torch.tensor([[0, 0], [0, 1], [1, 0], [1, 1]], dtype=torch.float32)\n",
    "y = torch.tensor([0, 1, 1, 0], dtype=torch.float32)\n",
    "\n",
    "class XORModel(nn.Module):\n",
    "    def __init__(self):\n",
    "        super(XORModel, self).__init__()\n",
    "        self.linear1 = nn.Linear(2, 2, bias=True)\n",
    "        self.activation1 = nn.ReLU()  # Change activation function\n",
    "        self.linear2 = nn.Linear(2, 1, bias=True)\n",
    "\n",
    "    def forward(self, x):\n",
    "        x = self.linear1(x)\n",
    "        x = self.activation1(x)\n",
    "        x = self.linear2(x)\n",
    "        return x\n",
    "\n",
    "class MyDataset(Dataset):\n",
    "    def __init__(self, X, Y):\n",
    "        self.X = X\n",
    "        self.Y = Y\n",
    "\n",
    "    def __len__(self):\n",
    "        return len(self.X)\n",
    "\n",
    "    def __getitem__(self, idx):\n",
    "        return self.X[idx], self.Y[idx]\n",
    "\n",
    "device = torch.device(\"cuda\" if torch.cuda.is_available() else \"cpu\")\n",
    "dataset = MyDataset(x, y)\n",
    "batch_size = 1\n",
    "train_data_loader = DataLoader(dataset, batch_size=batch_size, shuffle=True)\n",
    "\n",
    "model = XORModel().to(device)\n",
    "print(model)\n",
    "\n",
    "loss_fn = torch.nn.MSELoss()\n",
    "optimizer = torch.optim.SGD(model.parameters(), lr=0.03)\n",
    "\n",
    "def train_one_epoch(epoch_index):\n",
    "    total_loss = 0\n",
    "    for i, data in enumerate(train_data_loader):\n",
    "        inputs, labels = data\n",
    "        optimizer.zero_grad()\n",
    "        outputs = model(inputs)\n",
    "        loss = loss_fn(outputs.flatten(), labels)\n",
    "        loss.backward()\n",
    "        optimizer.step()\n",
    "        total_loss += loss.item()\n",
    "    return total_loss / (len(train_data_loader) * batch_size)\n",
    "\n",
    "EPOCHS = 10000\n",
    "for epoch in range(1, EPOCHS + 1):\n",
    "    model.train(True)\n",
    "    avg_loss = train_one_epoch(epoch)\n",
    "    loss_list.append(avg_loss)\n",
    "    if epoch % 1000 == 0:\n",
    "        print(f\"Epoch {epoch}/{EPOCHS}, Loss = {avg_loss}\")\n",
    "\n",
    "total_params = sum(p.numel() for p in model.parameters())\n",
    "print(f\"Total parameters: {total_params}\")\n",
    "\n",
    "input_data = torch.tensor([0., 1.]).to(device)\n",
    "model.eval()\n",
    "print(\"Input = \", input_data)\n",
    "print(\"Output = \", model(input_data).item())\n",
    "\n",
    "plt.plot(loss_list)\n",
    "plt.xlabel('Epochs')\n",
    "plt.ylabel('Loss')\n",
    "plt.title('Training Loss Over Epochs')\n",
    "plt.show()\n"
   ]
  },
  {
   "cell_type": "code",
   "execution_count": 3,
   "id": "a45187b0",
   "metadata": {},
   "outputs": [
    {
     "name": "stdout",
     "output_type": "stream",
     "text": [
      "Linear1 Weight:\n",
      " tensor([[ 0.6139,  0.6554],\n",
      "        [-0.6774,  0.6844]])\n",
      "Linear1 Bias:\n",
      " tensor([-0.6271, -0.0178])\n",
      "Linear2 Weight:\n",
      " tensor([[-0.7764,  0.7782]])\n",
      "Linear2 Bias:\n",
      " tensor([0.4958])\n"
     ]
    }
   ],
   "source": [
    "# Extracting weights and biases\n",
    "linear1_weight, linear1_bias = model.linear1.weight.data, model.linear1.bias.data\n",
    "linear2_weight, linear2_bias = model.linear2.weight.data, model.linear2.bias.data\n",
    "\n",
    "# Displaying weights and biases\n",
    "print(\"Linear1 Weight:\\n\", linear1_weight)\n",
    "print(\"Linear1 Bias:\\n\", linear1_bias)\n",
    "print(\"Linear2 Weight:\\n\", linear2_weight)\n",
    "print(\"Linear2 Bias:\\n\", linear2_bias)\n"
   ]
  },
  {
   "cell_type": "code",
   "execution_count": 4,
   "id": "a04fd9fb",
   "metadata": {},
   "outputs": [
    {
     "name": "stdout",
     "output_type": "stream",
     "text": [
      "Manual Calculation for Linear1 Output:\n",
      " tensor([[-0.6271, -0.0178],\n",
      "        [ 0.0282,  0.6666],\n",
      "        [-0.0132, -0.6953],\n",
      "        [ 0.6421, -0.0109]])\n",
      "Manual Calculation for Linear1 Activation Output:\n",
      " tensor([[0.0000, 0.0000],\n",
      "        [0.0282, 0.6666],\n",
      "        [0.0000, 0.0000],\n",
      "        [0.6421, 0.0000]])\n",
      "Manual Calculation for Linear2 Output:\n",
      " tensor([[ 0.4958],\n",
      "        [ 0.9926],\n",
      "        [ 0.4958],\n",
      "        [-0.0028]])\n",
      "Manual Calculation for Final Output:\n",
      " tensor([[0.4958],\n",
      "        [0.9926],\n",
      "        [0.4958],\n",
      "        [0.0000]])\n"
     ]
    }
   ],
   "source": [
    "# Manually calculating output for Linear1\n",
    "linear1_output = torch.matmul(x, linear1_weight.t()) + linear1_bias\n",
    "linear1_activation_output = model.activation1(linear1_output)\n",
    "\n",
    "# Manually calculating output for Linear2\n",
    "linear2_output = torch.matmul(linear1_activation_output, linear2_weight.t()) + linear2_bias\n",
    "final_output = model.activation1(linear2_output)\n",
    "\n",
    "# Displaying manual calculation results\n",
    "print(\"Manual Calculation for Linear1 Output:\\n\", linear1_output)\n",
    "print(\"Manual Calculation for Linear1 Activation Output:\\n\", linear1_activation_output)\n",
    "print(\"Manual Calculation for Linear2 Output:\\n\", linear2_output)\n",
    "print(\"Manual Calculation for Final Output:\\n\", final_output)\n"
   ]
  },
  {
   "cell_type": "code",
   "execution_count": 5,
   "id": "8c36247b",
   "metadata": {},
   "outputs": [
    {
     "name": "stdout",
     "output_type": "stream",
     "text": [
      "Downloading http://yann.lecun.com/exdb/mnist/train-images-idx3-ubyte.gz\n",
      "Downloading http://yann.lecun.com/exdb/mnist/train-images-idx3-ubyte.gz to ./data/MNIST/raw/train-images-idx3-ubyte.gz\n"
     ]
    },
    {
     "name": "stderr",
     "output_type": "stream",
     "text": [
      "100%|███████████████████████████| 9912422/9912422 [00:00<00:00, 23562251.87it/s]\n"
     ]
    },
    {
     "name": "stdout",
     "output_type": "stream",
     "text": [
      "Extracting ./data/MNIST/raw/train-images-idx3-ubyte.gz to ./data/MNIST/raw\n",
      "\n",
      "Downloading http://yann.lecun.com/exdb/mnist/train-labels-idx1-ubyte.gz\n",
      "Downloading http://yann.lecun.com/exdb/mnist/train-labels-idx1-ubyte.gz to ./data/MNIST/raw/train-labels-idx1-ubyte.gz\n"
     ]
    },
    {
     "name": "stderr",
     "output_type": "stream",
     "text": [
      "100%|███████████████████████████████| 28881/28881 [00:00<00:00, 31636378.64it/s]"
     ]
    },
    {
     "name": "stdout",
     "output_type": "stream",
     "text": [
      "Extracting ./data/MNIST/raw/train-labels-idx1-ubyte.gz to ./data/MNIST/raw\n",
      "\n",
      "Downloading http://yann.lecun.com/exdb/mnist/t10k-images-idx3-ubyte.gz\n"
     ]
    },
    {
     "name": "stderr",
     "output_type": "stream",
     "text": [
      "\n"
     ]
    },
    {
     "name": "stdout",
     "output_type": "stream",
     "text": [
      "Downloading http://yann.lecun.com/exdb/mnist/t10k-images-idx3-ubyte.gz to ./data/MNIST/raw/t10k-images-idx3-ubyte.gz\n"
     ]
    },
    {
     "name": "stderr",
     "output_type": "stream",
     "text": [
      "100%|████████████████████████████| 1648877/1648877 [00:00<00:00, 5373911.87it/s]\n"
     ]
    },
    {
     "name": "stdout",
     "output_type": "stream",
     "text": [
      "Extracting ./data/MNIST/raw/t10k-images-idx3-ubyte.gz to ./data/MNIST/raw\n",
      "\n",
      "Downloading http://yann.lecun.com/exdb/mnist/t10k-labels-idx1-ubyte.gz\n",
      "Downloading http://yann.lecun.com/exdb/mnist/t10k-labels-idx1-ubyte.gz to ./data/MNIST/raw/t10k-labels-idx1-ubyte.gz\n"
     ]
    },
    {
     "name": "stderr",
     "output_type": "stream",
     "text": [
      "100%|██████████████████████████████████| 4542/4542 [00:00<00:00, 9247829.50it/s]\n"
     ]
    },
    {
     "name": "stdout",
     "output_type": "stream",
     "text": [
      "Extracting ./data/MNIST/raw/t10k-labels-idx1-ubyte.gz to ./data/MNIST/raw\n",
      "\n",
      "Classification Accuracy: 96.76%\n",
      "Confusion Matrix:\n",
      "[[ 959    1    2    0    2    5    6    1    2    2]\n",
      " [   0 1127    2    1    0    0    1    0    4    0]\n",
      " [   5    0 1004    5    3    0    2    7    6    0]\n",
      " [   0    5    6  954    0   22    1    7   13    2]\n",
      " [   0    2    6    0  957    0    1    5    0   11]\n",
      " [   2    2    0    1    2  875    2    1    5    2]\n",
      " [   3    4    4    0    4   16  915    0   12    0]\n",
      " [   1    8   14    1    1    0    0  995    2    6]\n",
      " [   1    1    2    6    1    6    1    3  953    0]\n",
      " [   4    5    0    5   28    6    1   10   13  937]]\n"
     ]
    },
    {
     "data": {
      "image/png": "[encoded data removed]",
      "text/plain": [
       "<Figure size 640x480 with 2 Axes>"
      ]
     },
     "metadata": {},
     "output_type": "display_data"
    },
    {
     "name": "stdout",
     "output_type": "stream",
     "text": [
      "Total number of learnable parameters: 109386\n"
     ]
    }
   ],
   "source": [
    "import torch\n",
    "import torch.nn as nn\n",
    "import torch.optim as optim\n",
    "import torchvision\n",
    "import torchvision.transforms as transforms\n",
    "from sklearn.metrics import confusion_matrix\n",
    "import matplotlib.pyplot as plt\n",
    "import seaborn as sns\n",
    "from sklearn.metrics import accuracy_score\n",
    "\n",
    "# Set random seed for reproducibility\n",
    "torch.manual_seed(42)\n",
    "\n",
    "# Load MNIST dataset\n",
    "transform = transforms.Compose([transforms.ToTensor(), transforms.Normalize((0.5,), (0.5,))])\n",
    "\n",
    "train_dataset = torchvision.datasets.MNIST(root='./data', train=True, transform=transform, download=True)\n",
    "test_dataset = torchvision.datasets.MNIST(root='./data', train=False, transform=transform, download=True)\n",
    "\n",
    "train_loader = torch.utils.data.DataLoader(dataset=train_dataset, batch_size=64, shuffle=True)\n",
    "test_loader = torch.utils.data.DataLoader(dataset=test_dataset, batch_size=64, shuffle=False)\n",
    "\n",
    "# Define the neural network model\n",
    "class FFNN(nn.Module):\n",
    "    def __init__(self, input_size, hidden_size1, hidden_size2, num_classes):\n",
    "        super(FFNN, self).__init__()\n",
    "        self.flatten = nn.Flatten()\n",
    "        self.fc1 = nn.Linear(input_size, hidden_size1)\n",
    "        self.relu1 = nn.ReLU()\n",
    "        self.fc2 = nn.Linear(hidden_size1, hidden_size2)\n",
    "        self.relu2 = nn.ReLU()\n",
    "        self.fc3 = nn.Linear(hidden_size2, num_classes)\n",
    "\n",
    "    def forward(self, x):\n",
    "        x = self.flatten(x)\n",
    "        x = self.fc1(x)\n",
    "        x = self.relu1(x)\n",
    "        x = self.fc2(x)\n",
    "        x = self.relu2(x)\n",
    "        x = self.fc3(x)\n",
    "        return x\n",
    "\n",
    "# Model parameters\n",
    "input_size = 28 * 28  # MNIST image size\n",
    "hidden_size1 = 128\n",
    "hidden_size2 = 64\n",
    "num_classes = 10\n",
    "\n",
    "# Instantiate the model\n",
    "model = FFNN(input_size, hidden_size1, hidden_size2, num_classes)\n",
    "\n",
    "# Loss function and optimizer\n",
    "criterion = nn.CrossEntropyLoss()\n",
    "optimizer = optim.Adam(model.parameters(), lr=0.001)\n",
    "\n",
    "# Training the model\n",
    "num_epochs = 5\n",
    "\n",
    "for epoch in range(num_epochs):\n",
    "    model.train()\n",
    "    for images, labels in train_loader:\n",
    "        images = images.view(-1, 28 * 28)\n",
    "        outputs = model(images)\n",
    "        loss = criterion(outputs, labels)\n",
    "        optimizer.zero_grad()\n",
    "        loss.backward()\n",
    "        optimizer.step()\n",
    "\n",
    "# Evaluate the model on the test set\n",
    "model.eval()\n",
    "all_preds = []\n",
    "all_labels = []\n",
    "\n",
    "with torch.no_grad():\n",
    "    for images, labels in test_loader:\n",
    "        images = images.view(-1, 28 * 28)\n",
    "        outputs = model(images)\n",
    "        _, preds = torch.max(outputs, 1)\n",
    "        all_preds.extend(preds.numpy())\n",
    "        all_labels.extend(labels.numpy())\n",
    "\n",
    "# Calculate accuracy and confusion matrix\n",
    "accuracy = accuracy_score(all_labels, all_preds)\n",
    "conf_matrix = confusion_matrix(all_labels, all_preds)\n",
    "\n",
    "# Display results\n",
    "print(f\"Classification Accuracy: {accuracy * 100:.2f}%\")\n",
    "print(f\"Confusion Matrix:\\n{conf_matrix}\")\n",
    "\n",
    "# Display confusion matrix as a heatmap\n",
    "class_names = [str(i) for i in range(10)]\n",
    "sns.heatmap(conf_matrix, annot=True, fmt=\"d\", cmap=\"Blues\", xticklabels=class_names, yticklabels=class_names)\n",
    "plt.xlabel(\"Predicted Label\")\n",
    "plt.ylabel(\"True Label\")\n",
    "plt.title(\"Confusion Matrix\")\n",
    "plt.show()\n",
    "\n",
    "# Display the number of learnable parameters in the model\n",
    "total_params = sum(p.numel() for p in model.parameters())\n",
    "print(f\"Total number of learnable parameters: {total_params}\")\n"
   ]
  },
  {
   "cell_type": "code",
   "execution_count": null,
   "id": "e715cf18",
   "metadata": {},
   "outputs": [],
   "source": []
  }
 ],
 "metadata": {
  "kernelspec": {
   "display_name": "Python 3 (ipykernel)",
   "language": "python",
   "name": "python3"
  },
  "language_info": {
   "codemirror_mode": {
    "name": "ipython",
    "version": 3
   },
   "file_extension": ".py",
   "mimetype": "text/x-python",
   "name": "python",
   "nbconvert_exporter": "python",
   "pygments_lexer": "ipython3",
   "version": "3.11.3"
  }
 },
 "nbformat": 4,
 "nbformat_minor": 5
}
